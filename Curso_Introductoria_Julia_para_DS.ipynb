{
 "cells": [
  {
   "cell_type": "markdown",
   "id": "13a09eed",
   "metadata": {
    "tags": []
   },
   "source": [
    "# Bienvenido al curso introductorio de Julia para Data Science\n",
    "\n",
    "<center>\n",
    "<img src=julia.png>"
   ]
  },
  {
   "cell_type": "markdown",
   "id": "7737523e",
   "metadata": {},
   "source": [
    "## Objetivos\n",
    "\n",
    "* Comprender los conceptos y funcionalidades básicas del lenguaje Julia\n",
    "* Análisis y desarrollo de código para su posterior uso."
   ]
  },
  {
   "cell_type": "code",
   "execution_count": 2,
   "id": "77e78f42",
   "metadata": {},
   "outputs": [
    {
     "ename": "LoadError",
     "evalue": "The WebIO Jupyter extension must be installed using Python or Conda. See https://juliagizmos.github.io/WebIO.jl/latest/providers/ijulia/ for more information.",
     "output_type": "error",
     "traceback": [
      "The WebIO Jupyter extension must be installed using Python or Conda. See https://juliagizmos.github.io/WebIO.jl/latest/providers/ijulia/ for more information.",
      "",
      "Stacktrace:",
      " [1] error(s::String)",
      "   @ Base .\\error.jl:35",
      " [2] _error()",
      "   @ WebIO C:\\Users\\Administrator\\.julia\\packages\\WebIO\\4JqEH\\deps\\jupyter.jl:1",
      " [3] install_jupyter_labextension(; kwargs::Base.Pairs{Symbol, Union{}, Tuple{}, NamedTuple{(), Tuple{}}})",
      "   @ WebIO C:\\Users\\Administrator\\.julia\\packages\\WebIO\\4JqEH\\deps\\jupyter.jl:9",
      " [4] install_jupyter_labextension()",
      "   @ WebIO C:\\Users\\Administrator\\.julia\\packages\\WebIO\\4JqEH\\deps\\jupyter.jl:9",
      " [5] top-level scope",
      "   @ In[2]:2",
      " [6] eval",
      "   @ .\\boot.jl:368 [inlined]",
      " [7] include_string(mapexpr::typeof(REPL.softscope), mod::Module, code::String, filename::String)",
      "   @ Base .\\loading.jl:1428"
     ]
    }
   ],
   "source": [
    "using WebIO,IJulia\n",
    "WebIO.install_jupyter_labextension()"
   ]
  },
  {
   "cell_type": "code",
   "execution_count": 4,
   "id": "95c27631",
   "metadata": {},
   "outputs": [
    {
     "ename": "LoadError",
     "evalue": "syntax: extra token \"pip\" after end of expression",
     "output_type": "error",
     "traceback": [
      "syntax: extra token \"pip\" after end of expression",
      "",
      "Stacktrace:",
      " [1] top-level scope",
      "   @ In[4]:1",
      " [2] eval",
      "   @ .\\boot.jl:368 [inlined]",
      " [3] include_string(mapexpr::typeof(REPL.softscope), mod::Module, code::String, filename::String)",
      "   @ Base .\\loading.jl:1428"
     ]
    }
   ],
   "source": [
    "python3 -m pip install webio_jupyter_extension"
   ]
  },
  {
   "cell_type": "markdown",
   "id": "75cbda23",
   "metadata": {},
   "source": [
    "<a id='Indice'></a>\n",
    "## Índice\n",
    "[Inicio ▲](#Indice)\n",
    "\n",
    "1. [Introducción](#Introduccion)\n",
    "1. [Variables básicas](#Variables-basicas)\n",
    "1. [Ciclos](#Ciclos)\n",
    "1. [Funciones](#Funciones)\n",
    "1. [Diccionarios](#Diccionarios)\n",
    "1. [Paquetes](#Paquetes)\n",
    "\n"
   ]
  },
  {
   "cell_type": "markdown",
   "id": "43eb7c49",
   "metadata": {},
   "source": [
    "<a id='Introduccion'></a>\n",
    "### Introducción 🎯\n",
    "\n",
    "[Inicio ▲](#Indice)\n",
    "\n",
    "Julia es un lenguaje de proposito general de código abierto,dinámico y de alto rendimiento basado en un compilador avanzado (JIT),que permite que el código se ejecute rápido como si fuera compilado.\n",
    "\n",
    "Sin embargo,algunas de las caracteristicas mas interesantes de Julia para Ciencias e Ingeniería,son las siguientes:\n",
    "\n",
    "* Sintáxis Matemáticas: Lleva el lenguaje matematico al codigo de programación similar a como lo realizan software como Mathematica.\n",
    "\n",
    "* Buen desempeño: Tiene un rendimiento similar a lenguajes compilados como C.\n",
    "\n",
    "* Diseño paralelo: Esta desarrollado para la computación paralela y distribuida.\n",
    "\n",
    "* Entre otros...\n",
    "\n",
    "La última versión descargable de Julia es la versión 1.7.3 y la puedes descargar desde el siguiente enlance [Julia](https://julialang.org/downloads/).Además puedes instalar algunos Entornos de desarrollo para utilizar Julia como [VSCode](https://code.visualstudio.com/) o incluso puedes utilizar la Suite [JupyterLab](https://jupyter.org/)."
   ]
  },
  {
   "cell_type": "markdown",
   "id": "8308cd17",
   "metadata": {},
   "source": [
    "<a id='Variables-basicas'></a>\n",
    "### Variables básicas 🎹\n",
    "\n",
    "[Inicio ▲](#Indice)\n",
    "\n",
    "Uno de los primeros puntos a considerar en lenguajes como MatLab,R,Python,entre otros,es la definición de variables.En el caso de Julia,podemos considerar que las variables básicas que podemos definir son variables numéricas y de cadena de texto."
   ]
  },
  {
   "cell_type": "code",
   "execution_count": 9,
   "id": "8a2ca7de",
   "metadata": {},
   "outputs": [
    {
     "data": {
      "text/plain": [
       "Int64"
      ]
     },
     "execution_count": 9,
     "metadata": {},
     "output_type": "execute_result"
    }
   ],
   "source": [
    "x=10\n",
    "typeof(x)"
   ]
  },
  {
   "cell_type": "code",
   "execution_count": 10,
   "id": "505c3292",
   "metadata": {},
   "outputs": [
    {
     "data": {
      "text/plain": [
       "String"
      ]
     },
     "execution_count": 10,
     "metadata": {},
     "output_type": "execute_result"
    }
   ],
   "source": [
    "y=\"Proyecto exitoso\"\n",
    "typeof(y)"
   ]
  },
  {
   "cell_type": "markdown",
   "id": "68936561",
   "metadata": {},
   "source": [
    "En este caso definimos la variable x que almacena el valor **10** y la variable y que almacena el texto **\"Proyecto exitoso\"**.Luego verificamos el tipo de variable que es cada una,mediante la funcion **typeof()**.\n",
    "\n",
    "Sin embargo,tal vez una de las caracteristicas mas importantes de Julia es la existencia de jerarquia en las variables numéricas.De esta forma, es posible transformar un valor entero en formatos de **Float64**,**Float32** o **Float16** correspondientes a numeros de doble,unica o la mitad de la precisión.\n"
   ]
  },
  {
   "cell_type": "code",
   "execution_count": 21,
   "id": "19a011b6",
   "metadata": {},
   "outputs": [
    {
     "data": {
      "text/plain": [
       "2.0"
      ]
     },
     "execution_count": 21,
     "metadata": {},
     "output_type": "execute_result"
    }
   ],
   "source": [
    "Float64(2)"
   ]
  },
  {
   "cell_type": "code",
   "execution_count": 22,
   "id": "c6f56e6f",
   "metadata": {},
   "outputs": [
    {
     "data": {
      "text/plain": [
       "2.0f0"
      ]
     },
     "execution_count": 22,
     "metadata": {},
     "output_type": "execute_result"
    }
   ],
   "source": [
    "Float32(2)"
   ]
  },
  {
   "cell_type": "code",
   "execution_count": 23,
   "id": "9915313c",
   "metadata": {},
   "outputs": [
    {
     "data": {
      "text/plain": [
       "Float16(2.0)"
      ]
     },
     "execution_count": 23,
     "metadata": {},
     "output_type": "execute_result"
    }
   ],
   "source": [
    "Float16(2)"
   ]
  },
  {
   "cell_type": "markdown",
   "id": "9b7a4e84",
   "metadata": {},
   "source": [
    "Si queremos realizar la operación inversa,transformar una variable float en integer,no siempre sera valida debido a la jerarquia en las variables.Es por esto que es preferible utilizar funciones como **ceil()**,**floor()** o **round()**.\n",
    "\n",
    "Si consideramos el siguiente caso"
   ]
  },
  {
   "cell_type": "code",
   "execution_count": 25,
   "id": "bac121a1",
   "metadata": {},
   "outputs": [
    {
     "data": {
      "text/plain": [
       "2"
      ]
     },
     "execution_count": 25,
     "metadata": {},
     "output_type": "execute_result"
    }
   ],
   "source": [
    "Int64(2.4)"
   ]
  },
  {
   "cell_type": "markdown",
   "id": "f5505e73",
   "metadata": {},
   "source": [
    "Nos lanzara un error,ya que no se puede transformar a valor entero el decimal 2.4.Para esto preferimos utilizar la siguientes funciones."
   ]
  },
  {
   "cell_type": "code",
   "execution_count": 26,
   "id": "b89f1b0d",
   "metadata": {},
   "outputs": [
    {
     "data": {
      "text/plain": [
       "2"
      ]
     },
     "execution_count": 26,
     "metadata": {},
     "output_type": "execute_result"
    }
   ],
   "source": [
    "floor(Int64,2.4)"
   ]
  },
  {
   "cell_type": "code",
   "execution_count": 27,
   "id": "b2de6fa7",
   "metadata": {},
   "outputs": [
    {
     "data": {
      "text/plain": [
       "3"
      ]
     },
     "execution_count": 27,
     "metadata": {},
     "output_type": "execute_result"
    }
   ],
   "source": [
    "ceil(Int64,2.4)"
   ]
  },
  {
   "cell_type": "code",
   "execution_count": 28,
   "id": "f3fe8780",
   "metadata": {},
   "outputs": [
    {
     "data": {
      "text/plain": [
       "2"
      ]
     },
     "execution_count": 28,
     "metadata": {},
     "output_type": "execute_result"
    }
   ],
   "source": [
    "round(Int64,2.4)"
   ]
  },
  {
   "cell_type": "markdown",
   "id": "fd89a453",
   "metadata": {},
   "source": [
    "En los 3 casos estamos transformando el mismo valor decimal,sin embargo la funcion determina si se redondea al valor mas cercano hacia abajo o hacia arriba."
   ]
  },
  {
   "cell_type": "markdown",
   "id": "f1ee6cd9",
   "metadata": {},
   "source": [
    "<a id='Ciclos'></a>\n",
    "### Ciclos 🎢\n",
    "\n",
    "[Inicio ▲](#Indice)\n",
    "\n",
    "Uno de los aspectos mas importantes en la mayoria de los lenguajes, son los ciclos o loops para el desarrollo de iteraciones en distintos contextos,ya sean recorrer los valores en una lista o matriz,iterar una función, imprimir mensajes por pantalla con alguna variable que cambia de valor,entre otros aspectos.\n",
    "\n",
    "Uno de los primeros puntos que podemos ver es la sintáxis,la cual es muy similar a lenguajes como Matlab o R,en donde usamos la funcion **println()**,ya que nos permite imprimir cada valor de **i** en una nueva linea."
   ]
  },
  {
   "cell_type": "code",
   "execution_count": 3,
   "id": "447f5401",
   "metadata": {},
   "outputs": [
    {
     "name": "stdout",
     "output_type": "stream",
     "text": [
      "1\n",
      "2\n",
      "3\n",
      "4\n",
      "5\n",
      "6\n",
      "7\n",
      "8\n",
      "9\n",
      "10\n"
     ]
    }
   ],
   "source": [
    "for i in 1:10\n",
    "    println(i)\n",
    "end"
   ]
  },
  {
   "cell_type": "markdown",
   "id": "72481365",
   "metadata": {},
   "source": [
    "En caso contrario si usamos en Julia la funcion **print()** obtenemos la misma secuencia pero se imprimen todos los valores en la misma linea."
   ]
  },
  {
   "cell_type": "code",
   "execution_count": 4,
   "id": "618c7984",
   "metadata": {},
   "outputs": [
    {
     "name": "stdout",
     "output_type": "stream",
     "text": [
      "12345678910"
     ]
    }
   ],
   "source": [
    "for i in 1:10\n",
    "    print(i)\n",
    "end"
   ]
  },
  {
   "cell_type": "markdown",
   "id": "33fec96a",
   "metadata": {},
   "source": [
    "Sin embargo, el ciclo for tambien puede recorrer otro tipo de estructuras de datos o variables.En algunos casos podriamos querer recorrer los valores en un vector previamente definido"
   ]
  },
  {
   "cell_type": "code",
   "execution_count": 6,
   "id": "fa73e2aa",
   "metadata": {},
   "outputs": [
    {
     "name": "stdout",
     "output_type": "stream",
     "text": [
      "10\n",
      "20\n",
      "30\n",
      "40\n",
      "50\n"
     ]
    }
   ],
   "source": [
    "for i in [10,20,30,40,50]\n",
    "    println(i)\n",
    "end"
   ]
  },
  {
   "cell_type": "markdown",
   "id": "9509066e",
   "metadata": {},
   "source": [
    "O incluso podriamos recorrer uno a uno los caracteres en una cadena de texto... cualquier parecido con la realidad es mera coincidencia. 👀"
   ]
  },
  {
   "cell_type": "code",
   "execution_count": 8,
   "id": "13f13e5c",
   "metadata": {},
   "outputs": [
    {
     "name": "stdout",
     "output_type": "stream",
     "text": [
      "L\n",
      "u\n",
      "n\n",
      "e\n",
      "s\n"
     ]
    }
   ],
   "source": [
    "for i in \"Lunes\"\n",
    "    println(i)\n",
    "end"
   ]
  },
  {
   "cell_type": "markdown",
   "id": "9b7e5281",
   "metadata": {},
   "source": [
    "Afortunadamente no solo existe el ciclo for para realizar iteraciones.Sino que también podemos hacer uso del ciclo while,el cual tiene una sintaxis un poco mas breve,pero que sin embargo debemos tener algunos cuidados.\n",
    "\n",
    "En este caso el ciclo while se ejecuta siempre que sea cierta la condición lógica,pero en el caso que la condición logica deje de ser verdadera se ejecuta el codigo que viene despues de la palabra reservada **end**\n",
    "\n",
    "Una sintáxis clasica es el homólogo del ciclo for"
   ]
  },
  {
   "cell_type": "code",
   "execution_count": 10,
   "id": "feeb940f",
   "metadata": {},
   "outputs": [
    {
     "name": "stdout",
     "output_type": "stream",
     "text": [
      "1\n",
      "2\n",
      "3\n",
      "4\n",
      "5\n",
      "6\n",
      "7\n",
      "8\n",
      "9\n",
      "10\n"
     ]
    }
   ],
   "source": [
    "i = 1\n",
    "while i <= 10\n",
    "    println(i)\n",
    "    i=i+1\n",
    "end"
   ]
  },
  {
   "cell_type": "markdown",
   "id": "46653ec7",
   "metadata": {},
   "source": [
    "En este caso a diferencia del ciclo **for**,primero tenemos que inicializar la variable **i**,para luego definir la condición lógica,que en este caso es que mientras i sea menor o igual que 10 se debe imprimir las instrucciones que se encuentran en el bloque.Luego definimos 2 instrucciones,primero que se imprima el valor de **i** para luego redefinir el valor de i como **i=i+1**,asi de esta forma en cada iteración el valor de i va aumentando en 1.🪃"
   ]
  },
  {
   "cell_type": "markdown",
   "id": "67f70607",
   "metadata": {},
   "source": [
    "Uno de los principales cuidados que debemos tener al utilizar el ciclo **While**,es que mientras la condición lógica sea verdadera las instrucciones siempre se ejecutan,por tanto si la condición nunca deja de ser verdadera el ciclo se ejecuta de forma indefinida,ocasionando que en el peor de los casos el software se cierre de forma abrupta.Un caso común es el que se muestra en la sintáxis... 🔥"
   ]
  },
  {
   "cell_type": "code",
   "execution_count": null,
   "id": "0ddcfbde",
   "metadata": {},
   "outputs": [],
   "source": [
    "i = 1\n",
    "while i > 0\n",
    "    println(i)\n",
    "    i=i+1\n",
    "end"
   ]
  },
  {
   "cell_type": "markdown",
   "id": "e2996bd3",
   "metadata": {},
   "source": [
    "Pero bueno,si necesitamos que la condición si sea la que ya definimos,podriamos hacer uso de dos comandos muy útiles,en este caso **break** y **continue**.\n",
    "\n",
    "Si consideramos el último ciclo while,podriamos hacer que la variable ***i*** alcance un determinado valor el ciclo termine."
   ]
  },
  {
   "cell_type": "code",
   "execution_count": 3,
   "id": "e3e961b6",
   "metadata": {},
   "outputs": [
    {
     "name": "stdout",
     "output_type": "stream",
     "text": [
      "1\n",
      "2\n",
      "3\n",
      "4\n",
      "5\n",
      "6\n",
      "7\n",
      "8\n",
      "9\n",
      "10\n",
      "11\n",
      "12\n",
      "13\n",
      "14\n"
     ]
    }
   ],
   "source": [
    "i = 1\n",
    "while i > 0\n",
    "    if i ==15\n",
    "        break;\n",
    "    end\n",
    "    println(i)\n",
    "    i=i+1\n",
    "end"
   ]
  },
  {
   "cell_type": "markdown",
   "id": "e3cb2726",
   "metadata": {},
   "source": [
    "Afortunadamente resulto bien la sintáxis jajaj... Bueno como pueden ver acá agregamos una condición,en este caso se verifiqua si el valor de ***i*** llegó a 15,si es el caso entonces el while termina,pero mientras no llegue a ese valor se puede seguir ejecutando."
   ]
  },
  {
   "cell_type": "markdown",
   "id": "2fdcde7b",
   "metadata": {},
   "source": [
    "Y tal vez uno de los favoritos para muchos son los ciclos anidados 🙄.En general cuando hablamos de ciclos anidados hacemos referencia a incluir un ciclo dentro de otro,algo tipico que podriamos ver seria lo siguiente."
   ]
  },
  {
   "cell_type": "code",
   "execution_count": 14,
   "id": "fd39f067",
   "metadata": {},
   "outputs": [
    {
     "name": "stdout",
     "output_type": "stream",
     "text": [
      "i tiene el valor 1 y j tiene el valor 1\n",
      "i tiene el valor 1 y j tiene el valor 2\n",
      "i tiene el valor 1 y j tiene el valor 3\n",
      "i tiene el valor 2 y j tiene el valor 1\n",
      "i tiene el valor 2 y j tiene el valor 2\n",
      "i tiene el valor 2 y j tiene el valor 3\n",
      "i tiene el valor 3 y j tiene el valor 1\n",
      "i tiene el valor 3 y j tiene el valor 2\n",
      "i tiene el valor 3 y j tiene el valor 3\n"
     ]
    }
   ],
   "source": [
    "for i in 1:3\n",
    "    for j=1:3\n",
    "        println(\"i tiene el valor \",i,\" y j tiene el valor \",j)\n",
    "    end\n",
    "end"
   ]
  },
  {
   "cell_type": "markdown",
   "id": "585ab762",
   "metadata": {},
   "source": [
    "Aca estamos usando 2 ciclos for.El primero de ellos recorre los valores que puede tomar la variable ***i*** (1,2,3) y luego el ciclo de adentro recorre \n",
    "los valores que puede tomar la variable ***j***.De esta forma cuando ***i*** tiene el valor de 1,se recorren todos los valores de j y asi de forma sucesiva con los siguientes valores."
   ]
  },
  {
   "cell_type": "markdown",
   "id": "3d4032bd",
   "metadata": {},
   "source": [
    "Haciendo uso de ciclos pero esta vez de forma separada,podriamos hacer algo un poco mas matematico.🤓"
   ]
  },
  {
   "cell_type": "code",
   "execution_count": 39,
   "id": "1099c6b9",
   "metadata": {},
   "outputs": [
    {
     "data": {
      "text/plain": [
       "5×5 Matrix{Int64}:\n",
       " 1  0  0  0  1\n",
       " 0  1  0  1  0\n",
       " 0  0  1  0  0\n",
       " 0  1  0  1  0\n",
       " 1  0  0  0  1"
      ]
     },
     "execution_count": 39,
     "metadata": {},
     "output_type": "execute_result"
    }
   ],
   "source": [
    "x=[0 0 0 0 0; 0 0 0 0 0; 0 0 0 0 0; 0 0 0 0 0;  0 0 0 0 0]\n",
    "\n",
    "for i in 1:5\n",
    "    x[i,i]=1\n",
    "end\n",
    "for i in 1:5\n",
    "    x[i,-i+6]=1\n",
    "end\n",
    "\n",
    "x"
   ]
  },
  {
   "cell_type": "markdown",
   "id": "554cbfc9",
   "metadata": {},
   "source": [
    "Un último importante y no menor,es algo que vimos de forma indirecta en uno de los ciclos anteriormente y corresponde a los condicionales y operadores lógicos.\n",
    "\n",
    "Los condicionales sirven para ejecutar una instrucción siempre que se cumpla una condición.Sin embargo,podemos verificar n condiciones si fuera necesario las cuales las podemos realizar mediante operadores lógicos.\n",
    "\n",
    "<table ><tr><th >Operador <th><th> Descripción <tr><tr>\n",
    "<tr><td> < <td><td> Menor a <td><tr>\n",
    "<tr><td> > <td><td> Mayor a <td><tr>\n",
    "<tr><td> <= <td><td> Menor o igual a <td><tr>\n",
    "<tr><td> >= <td><td> Mayor o igual a <td><tr>\n",
    "<tr><td> == <td><td> Igual a <td><tr>\n",
    "<tr><td> != <td><td> No es igual a <td><tr>\n",
    "<tr><td> | <td><td> Si al menos una es verdadera (o). <td><tr>\n",
    "<tr><td> || <td><td> Si al menos la primera s verdadera <td><tr>\n",
    "<tr><td> & <td><td> Es Verdadero si todas lo son. <td><tr>\n",
    "<tr><td> ! <td><td> Negación <td><tr>\n",
    "<tr><td> any <td><td> Es Verdadero si algun elemento de un arreglo booleano es verdadero. <td><tr>\n",
    "<tr><td> all <td><td> Es verdadero si se cumple que todos los elementos de un arreglo booleano son Verdaderos. <td><tr>\n",
    "<tr><td> || <td><td> Menor a <td><tr><table>    \n",
    "    \n",
    "A pesar de ser una tabla un poco extensa... estos operadores si que son muy útiles.🧭\n",
    "    \n",
    "    \n",
    "Una caso bastante común es querer validar si un valor es positivo,negativo o igual a 0.Para esto utilizaremos una función que nos genere automaticamente numeros aleatorios."
   ]
  },
  {
   "cell_type": "code",
   "execution_count": 60,
   "id": "37f99b0e",
   "metadata": {},
   "outputs": [
    {
     "name": "stdout",
     "output_type": "stream",
     "text": [
      "1.0388530297170369\n",
      "A es positivo\n"
     ]
    }
   ],
   "source": [
    "A=randn()\n",
    "\n",
    "println(A)\n",
    "\n",
    "if A>0\n",
    "    println(\"A es positivo\")\n",
    "elseif A==0\n",
    "    println(\"A es cero\")\n",
    "else\n",
    "    println(\"A es negativo\")\n",
    "end"
   ]
  },
  {
   "cell_type": "markdown",
   "id": "9150c336",
   "metadata": {},
   "source": [
    "Así cada vez que se ejecute el bloque de código anterior,se genera un numero nuevo y se valida cualquiera de las 3 condiciones,devolviendonos el mensaje correspondiente."
   ]
  },
  {
   "cell_type": "markdown",
   "id": "e17e02a2",
   "metadata": {},
   "source": [
    "<a id='Funciones'></a>\n",
    "### Funciones ⛩\n",
    "\n",
    "[Inicio ▲](#Indice)\n",
    "\n",
    "Los bloques de código que hemos visto hasta el momento,representan definiciones de variables,iteración de una o mas instrucciones,entre otros aspectos.Sin embargo cuando hablamos de funciones,nos referimos a un conjunto de instrucciones pero que encapsulamos bajo un nombre,a la cual se le puede asignar una o mas variables de entrada y asi mismo podemos tener algunas salidas de esta misma.\n",
    "\n",
    "Una de las funciones que ya hemos utilizado y que viene precargada en Julia es la función ***println()***,de la cual incluso hemos visto algunos de los argumentos de esta."
   ]
  },
  {
   "cell_type": "code",
   "execution_count": 3,
   "id": "14188daf",
   "metadata": {},
   "outputs": [
    {
     "name": "stdout",
     "output_type": "stream",
     "text": [
      "Hola mundo\n"
     ]
    }
   ],
   "source": [
    "mensaje=println(\"Hola mundo\")\n",
    "mensaje"
   ]
  },
  {
   "cell_type": "markdown",
   "id": "345d180d",
   "metadata": {},
   "source": [
    "Otra función importante en Julia es ***parse()***,la cual toma una cadena y si es posible la transforma en algún tipo de número,sin embargo si no es posible arroja un error."
   ]
  },
  {
   "cell_type": "code",
   "execution_count": 8,
   "id": "7bf7aa93",
   "metadata": {},
   "outputs": [
    {
     "data": {
      "text/plain": [
       "3.1415"
      ]
     },
     "execution_count": 8,
     "metadata": {},
     "output_type": "execute_result"
    }
   ],
   "source": [
    "conversion_1=parse(Int64,\"44\")\n",
    "conversion_1"
   ]
  },
  {
   "cell_type": "markdown",
   "id": "8de4e098",
   "metadata": {},
   "source": [
    "Tambien podriamos aplicar una función a una ya utilizada.En este caso convertimos la cadena de texto \"3.1415\" a numero,pero luego utilizamos la función ***trunc()*** para truncar el valor de $\\pi.$"
   ]
  },
  {
   "cell_type": "code",
   "execution_count": 9,
   "id": "0c78d08e",
   "metadata": {},
   "outputs": [
    {
     "data": {
      "text/plain": [
       "3.0"
      ]
     },
     "execution_count": 9,
     "metadata": {},
     "output_type": "execute_result"
    }
   ],
   "source": [
    "conversion_2=parse(Float64,\"3.1415\")\n",
    "trunc(conversion_2)"
   ]
  },
  {
   "cell_type": "markdown",
   "id": "9d5e3f0d",
   "metadata": {},
   "source": [
    "Pero vamos a lo interesante... ya que por mas funciones que vengan diseñadas,en muchos casos vamos a requerir de la creación de nuestras propias funciones.\n",
    "\n",
    "De esta forma para crear una función,debemos especificar tanto su nombre como las instrucciones que queremos ejecutar.Asi podriamos definir una función que solo imprima un mensaje por pantalla cada vez que la llamemos."
   ]
  },
  {
   "cell_type": "code",
   "execution_count": 11,
   "id": "634448c9",
   "metadata": {},
   "outputs": [
    {
     "name": "stdout",
     "output_type": "stream",
     "text": [
      "Hola a todos\n"
     ]
    }
   ],
   "source": [
    "function saludo()\n",
    "    println(\"Hola a todos\")\n",
    "end\n",
    "\n",
    "saludo()"
   ]
  },
  {
   "cell_type": "markdown",
   "id": "121b5ebc",
   "metadata": {},
   "source": [
    "De esta forma debemos siempre respetar la estructura para el diseño de funciones.Esto implica que cada función siempre debe comenzar con la palabra reservada **function** seguida de el nombre de la función con una apertura y cierre de paréntesis.Luego debemos desarrollar el conjunto de instrucciones que buscamos que ejecute la función cada vez que la llamemos y finalmente debemos terminar con la palabra reservada **end**.\n",
    "\n",
    "Sin embargo,una función tambien puede utilizar parámetros de entrada los cuales pueden modificar parcialmente o totalmente el conjunto de instrucciones que se definen dentro de ella.\n",
    "\n",
    "Si tomamos la función **saludo** que definimos anteriormente,podriamos hacer que esta no solo salude de forma genérica sino que salude a una persona en particular,lo cual lo hara cuando le pasemos el nombre de la persona."
   ]
  },
  {
   "cell_type": "code",
   "execution_count": 29,
   "id": "9319c3f6",
   "metadata": {},
   "outputs": [
    {
     "name": "stdout",
     "output_type": "stream",
     "text": [
      "Buen día juan\n"
     ]
    }
   ],
   "source": [
    "function saludo(nombre)\n",
    "    println(string(\"Buen día\",\" \",nombre))\n",
    "end\n",
    "\n",
    "saludo(\"juan\")"
   ]
  },
  {
   "cell_type": "markdown",
   "id": "cf2e8213",
   "metadata": {},
   "source": [
    "Pero si profundizamos un poco en la función saludo,incluso podriamos agregar otros datos o información releevante de a quien debe saludar la función.Además del nombre,podriamos agregar la edad de la persona y el saldo que tiene en su tarjeta de transporte"
   ]
  },
  {
   "cell_type": "code",
   "execution_count": 41,
   "id": "b7848c07",
   "metadata": {},
   "outputs": [
    {
     "name": "stdout",
     "output_type": "stream",
     "text": [
      "Buen día juan su edad es de 25 y usted tiene un saldo de 100 en su tarjeta\n"
     ]
    }
   ],
   "source": [
    "function saludo(nombre,edad,saldo)\n",
    "    println(string(\"Buen día\",\" \",nombre,\" su edad es de \",edad,\" y usted tiene un saldo de \",saldo,\" en su tarjeta\"))\n",
    "end\n",
    "\n",
    "saludo(\"juan\",25,100)"
   ]
  },
  {
   "cell_type": "markdown",
   "id": "b31c7f1c",
   "metadata": {},
   "source": [
    "Como se ve pudimos editar la función,ahora la función **saludo()** acepta 3 parámetros de entrada los cuales corresponden al nombre,la edad y el saldo.Asi tambien se edito el texto que imprime la función,ya que ahora hace uso de los 2 nuevos parámetros "
   ]
  },
  {
   "cell_type": "markdown",
   "id": "d98bb44d",
   "metadata": {},
   "source": [
    "<a id='Diccionarios'></a>\n",
    "### Diccionarios 📊\n",
    "\n",
    "[Inicio ▲](#Indice)\n",
    "\n",
    "Un tipo de estructura importante en Julia asi como en otros lenguajes como Python son los diccionarios.Estos tienen algunos elementos en común con las matrices,pero son de un uso mas general 📚.\n",
    "\n",
    "Un diccionario contiene un conjunto de índices correspondientes a las ***claves*** y otro conjunto correspondiente a los ***valores***.De esta forma cada clave se asocia a un único valor,llamando a esta asociación par *clave-valor*.\n",
    "\n",
    "Tal vez de forma similar a lo que podemos hacer en Python con algunas librerias, en Julia podemos hacer uso de la función *Dict()* para crear un nuevo diccionario que inicialmente no guarde ningún par ***clave-valor***."
   ]
  },
  {
   "cell_type": "code",
   "execution_count": 2,
   "id": "411bdd45",
   "metadata": {},
   "outputs": [
    {
     "data": {
      "text/plain": [
       "Dict{Any, Any}()"
      ]
     },
     "execution_count": 2,
     "metadata": {},
     "output_type": "execute_result"
    }
   ],
   "source": [
    "diccionario=Dict()\n",
    "\n",
    "diccionario"
   ]
  },
  {
   "cell_type": "markdown",
   "id": "9ad7e0d4",
   "metadata": {},
   "source": [
    "Sin embargo si quisieramos agregar un par clave-valor,podríamos utilizar la siguiente sintáxis."
   ]
  },
  {
   "cell_type": "code",
   "execution_count": 5,
   "id": "20e21d78",
   "metadata": {},
   "outputs": [
    {
     "data": {
      "text/plain": [
       "Dict{Any, Any} with 1 entry:\n",
       "  \"primero\" => 2"
      ]
     },
     "execution_count": 5,
     "metadata": {},
     "output_type": "execute_result"
    }
   ],
   "source": [
    "diccionario[\"primero\"]=2\n",
    "\n",
    "diccionario"
   ]
  },
  {
   "cell_type": "markdown",
   "id": "b4f1ced3",
   "metadata": {},
   "source": [
    "Como se observa en la salida del diccionario,aca solo contamos con un único par clave-valor.En donde la llave es la cadena \"primero\" y el valor es 2"
   ]
  },
  {
   "cell_type": "markdown",
   "id": "017190d4",
   "metadata": {},
   "source": [
    "Pero si buscamos tener un diccionario con una mayor cantidad de pares,podemos hacer lo siguiente."
   ]
  },
  {
   "cell_type": "code",
   "execution_count": 8,
   "id": "c239c568",
   "metadata": {},
   "outputs": [
    {
     "data": {
      "text/plain": [
       "Dict{String, Int64} with 5 entries:\n",
       "  \"segundo\" => 2\n",
       "  \"primero\" => 1\n",
       "  \"cuarto\"  => 4\n",
       "  \"quinto\"  => 5\n",
       "  \"tercero\" => 3"
      ]
     },
     "execution_count": 8,
     "metadata": {},
     "output_type": "execute_result"
    }
   ],
   "source": [
    "diccionario=Dict(\"primero\"=>1,\"segundo\"=>2,\"tercero\"=>3,\"cuarto\"=>4,\"quinto\"=>5)\n",
    "\n",
    "diccionario"
   ]
  },
  {
   "cell_type": "markdown",
   "id": "f8d9b61a",
   "metadata": {},
   "source": [
    "Como podemos ver,en este caso ya contamos con un diccionario que cuenta con 5 pares,en donde llaves son del tipo ***\"String\"*** y los valores son del tipo ***\"Int64\"***.Sin embargo los pares no se muestran en el mismo orden en que realizamos su definición,lo cual es irrelevante en los diccionarios ya que las pares no se crean de forma correlativa y generalmente llamaremos a la llave para obtener el valor que deseamos."
   ]
  },
  {
   "cell_type": "markdown",
   "id": "f7311339",
   "metadata": {},
   "source": [
    "En este contexto si contamos con diccionarios con una mayor longitud,en muchas ocasiones habran algunas caracteristicas que no son tan evidentes🧭  como en el diccionario que ya hemos definido 📕.\n",
    "\n",
    "Para esto podemos utilizar algunas de las funciones que vienen precargadas en Julia... las cuales utilizaremos a continuación."
   ]
  },
  {
   "cell_type": "code",
   "execution_count": null,
   "id": "9d8d5b63",
   "metadata": {},
   "outputs": [],
   "source": [
    "Una de las primeras cosas que podemos hacer es buscar un valor en el diccionario por su llave"
   ]
  },
  {
   "cell_type": "code",
   "execution_count": 9,
   "id": "a9572294",
   "metadata": {},
   "outputs": [
    {
     "data": {
      "text/plain": [
       "5"
      ]
     },
     "execution_count": 9,
     "metadata": {},
     "output_type": "execute_result"
    }
   ],
   "source": [
    "diccionario=Dict(\"primero\"=>1,\"segundo\"=>2,\"tercero\"=>3,\"cuarto\"=>4,\"quinto\"=>5)\n",
    "\n",
    "diccionario[\"quinto\"]"
   ]
  },
  {
   "cell_type": "markdown",
   "id": "a0b3403b",
   "metadata": {},
   "source": [
    "Como podemos ver, si buscamos el valor que esta asignado a la llave **\"quinto\"**,obtenemos el valor que ya habiamos definido"
   ]
  },
  {
   "cell_type": "code",
   "execution_count": null,
   "id": "a4d1f098",
   "metadata": {},
   "outputs": [],
   "source": [
    "Sin embargo,en algunas ocasiones no sabremos exactamente que pares tenemos o los nombres de ellos.Para esto primero podemos verificar el largo de nuestro diccionario."
   ]
  },
  {
   "cell_type": "code",
   "execution_count": 14,
   "id": "f99cb554",
   "metadata": {},
   "outputs": [
    {
     "name": "stdout",
     "output_type": "stream",
     "text": [
      "5\n",
      "[\"segundo\", \"primero\", \"cuarto\", \"quinto\", \"tercero\"]\n"
     ]
    }
   ],
   "source": [
    "largo=length(diccionario)\n",
    "println(largo)\n",
    "\n",
    "llaves=keys(diccionario)\n",
    "println(llaves)"
   ]
  },
  {
   "cell_type": "markdown",
   "id": "191b44ba",
   "metadata": {},
   "source": [
    "En este utilizamos 2 funciones para hacer un barrido a nuestro diccionario.Primero verificamos el largo de nuestro diccionario con la función **length()** y luego usamos la función **keys()** para verificar cuales son todas las llaves que podemos llamar... lo que podemos verificar rapidamente porque no es muy extenso este diccionario 📋."
   ]
  },
  {
   "cell_type": "markdown",
   "id": "b09054fc",
   "metadata": {},
   "source": [
    "<a id='Paquetes'></a>\n",
    "### Paquetes 📦\n",
    "\n",
    "[Inicio ▲](#Indice)\n",
    "\n",
    "Uno de los aspectos principales en lenguajes como Python,R,Julia y otros.Es la posibilidad de extender las capacidades del software.Es asi que mediante la carga de paquetes externos en Julia,podemos realizar calculos con algebra simbolica, realizar graficos,resolver problemas de optimización,entre otras tareas.\n",
    "\n",
    "Sin embargo en este primer curso introductorio de Julia abordaremos el desarrollo de cálculo con algebra simbolica y el desarrollo de graficos con la libreria Plotly.Cabe mencionar que esta última es una de mis preferidas...😁 principalmente porque obtenemos graficos interactivos con bastantes funcionalidades pero manteniendo una sintáxis sencilla y limpia.Además podemos encontrar esta libreria en lenguajes como R y Python."
   ]
  },
  {
   "cell_type": "markdown",
   "id": "0620f318",
   "metadata": {},
   "source": [
    "## Paquete SymPy 🧪\n",
    "Sin embargo,la primera libreria que veremos es **SymPy** la cual nos permite declarar variables y funciones simbólicas,asi posteriormente podemos manipular estas expresiones y realizar la evaluación numérica."
   ]
  },
  {
   "cell_type": "code",
   "execution_count": 5,
   "id": "dcd8faf8",
   "metadata": {},
   "outputs": [
    {
     "data": {
      "text/plain": [
       "(x, y, z)"
      ]
     },
     "execution_count": 5,
     "metadata": {},
     "output_type": "execute_result"
    }
   ],
   "source": [
    "using SymPy;"
   ]
  },
  {
   "cell_type": "markdown",
   "id": "c05fb862",
   "metadata": {},
   "source": [
    "Luego tenemos 3 formas de definir las variables simbolicas,con las cuales queremos trabajar.La primera seria utilizar la función **Sym()**,como se muestra a continuación."
   ]
  },
  {
   "cell_type": "code",
   "execution_count": null,
   "id": "a823c469",
   "metadata": {},
   "outputs": [],
   "source": [
    "x,y,z=Sym(\"x,y,z\")"
   ]
  },
  {
   "cell_type": "markdown",
   "id": "5a191b60",
   "metadata": {},
   "source": [
    "Además conservando la misma sintáxis,podriamos utilizar la función **symbols()**."
   ]
  },
  {
   "cell_type": "code",
   "execution_count": 10,
   "id": "76f1caf5",
   "metadata": {},
   "outputs": [
    {
     "data": {
      "text/plain": [
       "(a, b, c)"
      ]
     },
     "execution_count": 10,
     "metadata": {},
     "output_type": "execute_result"
    }
   ],
   "source": [
    "a,b,c=symbols(\"a,b,c\")"
   ]
  },
  {
   "cell_type": "markdown",
   "id": "31f0a59f",
   "metadata": {},
   "source": [
    "Y una tercera opción seria utilizar la definición mediante los comandos **@vars** o **@syms**,obteniendo en ambos casos el mismo resultado."
   ]
  },
  {
   "cell_type": "code",
   "execution_count": 12,
   "id": "866df840",
   "metadata": {},
   "outputs": [
    {
     "data": {
      "text/plain": [
       "(a, b, c)"
      ]
     },
     "execution_count": 12,
     "metadata": {},
     "output_type": "execute_result"
    }
   ],
   "source": [
    "@vars a b c\n",
    "@syms a b c"
   ]
  },
  {
   "cell_type": "markdown",
   "id": "45687df3",
   "metadata": {},
   "source": [
    "De esta forma,podemos utilizar cualquiera de los métodos anteriores para definir nuestras variables simbolicas.\n",
    "\n",
    "Sin embargo, la parte mas interesante para trabajar con algebra simbolica viene a continuación...🥁. Ya teniendo 2 set de variables,podemos de igual forma definir algunas ecuaciones para luego trabajar con ellas."
   ]
  },
  {
   "cell_type": "code",
   "execution_count": 16,
   "id": "deea0c6a",
   "metadata": {},
   "outputs": [
    {
     "data": {
      "text/latex": [
       "$10 x + y + 3 z$"
      ],
      "text/plain": [
       "10*x + y + 3*z"
      ]
     },
     "execution_count": 16,
     "metadata": {},
     "output_type": "execute_result"
    }
   ],
   "source": [
    "f=10*x+1*y+3*z"
   ]
  },
  {
   "cell_type": "code",
   "execution_count": 17,
   "id": "00afe17f",
   "metadata": {},
   "outputs": [
    {
     "data": {
      "text/latex": [
       "$a - 2 b + 10 c$"
      ],
      "text/plain": [
       "a - 2*b + 10*c"
      ]
     },
     "execution_count": 17,
     "metadata": {},
     "output_type": "execute_result"
    }
   ],
   "source": [
    "g=1*a-2*b+10*c"
   ]
  },
  {
   "cell_type": "markdown",
   "id": "27670371",
   "metadata": {},
   "source": [
    "Como podemos ver hemos definido 2 expresiones en donde por el momento,ninguna de nuestras variables tienen un valor asignado.Sin embargo,podriamos evaluar ambas expresiones para un conjunto de valores que nosotros definamos."
   ]
  },
  {
   "cell_type": "markdown",
   "id": "383217fd",
   "metadata": {},
   "source": [
    "Si tomamos la primera expresión y le damos los valores **x=1**,**y=2** y **z=2**.Podemos utilizar la función **subs()** para evaluar la expresión en los valores recien mencionados"
   ]
  },
  {
   "cell_type": "code",
   "execution_count": 18,
   "id": "2167b5fd",
   "metadata": {},
   "outputs": [
    {
     "data": {
      "text/latex": [
       "$18$"
      ],
      "text/plain": [
       "18"
      ]
     },
     "execution_count": 18,
     "metadata": {},
     "output_type": "execute_result"
    }
   ],
   "source": [
    "f_num=subs(f,(x,1),(y,2),(z,2))\n",
    "f_num"
   ]
  },
  {
   "cell_type": "markdown",
   "id": "e5277c8d",
   "metadata": {},
   "source": [
    "De esta forma,al evaluar la expresión obtenemos el valor arrojado por pantalla.Pero si de todas formas queremos examinar otra respuesta de la expresión,podemos volver a evaluar."
   ]
  },
  {
   "cell_type": "code",
   "execution_count": 19,
   "id": "ea2d04c1",
   "metadata": {},
   "outputs": [
    {
     "data": {
      "text/latex": [
       "$128$"
      ],
      "text/plain": [
       "128"
      ]
     },
     "execution_count": 19,
     "metadata": {},
     "output_type": "execute_result"
    }
   ],
   "source": [
    "f_num=subs(f,(x,10),(y,4),(z,8))\n",
    "f_num"
   ]
  },
  {
   "cell_type": "markdown",
   "id": "62c30a09",
   "metadata": {},
   "source": [
    "En este caso,evaluamos la expresión f en los valores **x=10**,**y=4** y **z=8**."
   ]
  },
  {
   "cell_type": "markdown",
   "id": "befc893c",
   "metadata": {},
   "source": [
    "Sin embargo,tambien es posible realizar alguna operaciones mas complejas como el calculo de derivadas,integrales y límites.\n",
    "\n",
    "De esta forma si definimos la siguiente funcion."
   ]
  },
  {
   "cell_type": "code",
   "execution_count": 24,
   "id": "9cac63d7",
   "metadata": {},
   "outputs": [
    {
     "data": {
      "text/latex": [
       "$10 x^{3} + 5 x^{2} + 4 x$"
      ],
      "text/plain": [
       "    3      2      \n",
       "10*x  + 5*x  + 4*x"
      ]
     },
     "execution_count": 24,
     "metadata": {},
     "output_type": "execute_result"
    }
   ],
   "source": [
    "x=Sym(\"x\")\n",
    "fx=10*x^3+5*x^2+4*x"
   ]
  },
  {
   "cell_type": "markdown",
   "id": "eeabc128",
   "metadata": {},
   "source": [
    "La derivada de la función será:\n",
    "\n",
    "$$\\frac{\\partial}{\\partial x}{10x^3+5x^2+4x}$$\n",
    "\n",
    "Luego el resultado seria el siguiente:"
   ]
  },
  {
   "cell_type": "code",
   "execution_count": 25,
   "id": "d9b30c11",
   "metadata": {},
   "outputs": [
    {
     "data": {
      "text/latex": [
       "$30 x^{2} + 10 x + 4$"
      ],
      "text/plain": [
       "    2           \n",
       "30*x  + 10*x + 4"
      ]
     },
     "execution_count": 25,
     "metadata": {},
     "output_type": "execute_result"
    }
   ],
   "source": [
    "diff(fx)"
   ]
  },
  {
   "cell_type": "code",
   "execution_count": null,
   "id": "7c0c3b16",
   "metadata": {},
   "outputs": [],
   "source": [
    "o tambien podriamos determinal la integral indefinida"
   ]
  },
  {
   "cell_type": "code",
   "execution_count": 26,
   "id": "95c6522a",
   "metadata": {},
   "outputs": [
    {
     "data": {
      "text/latex": [
       "$\\frac{5 x^{4}}{2} + \\frac{5 x^{3}}{3} + 2 x^{2}$"
      ],
      "text/plain": [
       "   4      3       \n",
       "5*x    5*x       2\n",
       "---- + ---- + 2*x \n",
       " 2      3         "
      ]
     },
     "execution_count": 26,
     "metadata": {},
     "output_type": "execute_result"
    }
   ],
   "source": [
    "integrate(fx,x)"
   ]
  },
  {
   "cell_type": "markdown",
   "id": "46911ba6",
   "metadata": {},
   "source": [
    "En cambio si quisieramos determinar la integral definida de la función anterior entre 0 y 1,tendriamos lo siguiente:\n",
    "\n",
    "$$\\int_{0}^1 {10x^3+5x^2+4x}$$\n",
    "\n",
    "y al resolverlo el resultado seria el siguiente"
   ]
  },
  {
   "cell_type": "code",
   "execution_count": 27,
   "id": "14b918fe",
   "metadata": {},
   "outputs": [
    {
     "data": {
      "text/latex": [
       "$\\frac{37}{6}$"
      ],
      "text/plain": [
       "37/6"
      ]
     },
     "execution_count": 27,
     "metadata": {},
     "output_type": "execute_result"
    }
   ],
   "source": [
    "integrate(fx,(x,0,1))"
   ]
  },
  {
   "cell_type": "markdown",
   "id": "fd26ef49",
   "metadata": {},
   "source": [
    "## Paquete Plotly 📊\n",
    "\n",
    "Dejando un poco de lado la matemática un poco mas dura de la sección anterior... Sigamos con un tema un poco distinto,incluso tal vez un poco mas práctico.Si bien el desarrollo de visualizaciones efectivas con los datos correctos requiere de horas de trabajo,en esta sección veremos algunos de los graficos mas utilizados en Data Science.\n",
    "\n",
    "Alguno de los gráficos que se pueden desarrollar con Plotly y que veremos son los siguientes:\n",
    "\n",
    "*    Gráficos de líneas\n",
    "*    Gráficos de barra\n",
    "*    Histogramas\n",
    "*    Diagramas de cajas"
   ]
  },
  {
   "cell_type": "markdown",
   "id": "e72066c4",
   "metadata": {},
   "source": [
    "## Gráficos de dispersión\n",
    "Siguiendo el orden la lista,el primero de ellos que veremos será el gráfico de líneas.Este tipo de gráfico generalmente lo usamos para visualizar un conjunto de pares ordenados,en donde posteriormente podemos trazar rectas que unan cada uno de estos pares,la sintáxis siguiente muestra como podemos desarrollar un gráfico de este tipo.Cabe destacar que en este caso estamos usando tanto la libreria PlotlyJS como DataFrames,esta última solo la estamos ocupando para generar el cuadro de datos."
   ]
  },
  {
   "cell_type": "code",
   "execution_count": null,
   "id": "a5edd2a2",
   "metadata": {},
   "outputs": [],
   "source": [
    "using Plots,WebIO,IJulia\n",
    "\n",
    "## Lets jump right in\n",
    "data = rand(10)\n",
    "f = Plots.scatter(data)"
   ]
  },
  {
   "cell_type": "markdown",
   "id": "430d630d",
   "metadata": {},
   "source": [
    "\n",
    "<img src=graficos/graficos_dispersion.png width=\"500\" height=\"500\" >"
   ]
  },
  {
   "cell_type": "markdown",
   "id": "f2d47dca",
   "metadata": {},
   "source": [
    "## Gráfico de líneas\n",
    "Siguiendo el orden la lista,el primero de ellos que veremos será el gráfico de líneas.Este tipo de gráfico generalmente lo usamos para visualizar un conjunto de pares ordenados,en donde posteriormente podemos trazar rectas que unan cada uno de estos pares,la sintáxis siguiente muestra como podemos desarrollar un gráfico de este tipo.Cabe destacar que en este caso estamos usando tanto la libreria PlotlyJS como DataFrames,esta última solo la estamos ocupando para generar el cuadro de datos."
   ]
  },
  {
   "cell_type": "code",
   "execution_count": null,
   "id": "8969c4ab",
   "metadata": {},
   "outputs": [],
   "source": [
    "using Plots,WebIO,IJulia\n",
    "\n",
    "## Lets jump right in\n",
    "data = rand(10)\n",
    "f = plot(data)"
   ]
  },
  {
   "cell_type": "markdown",
   "id": "29156cb0",
   "metadata": {},
   "source": [
    "\n",
    "<img src=graficos/graficos_linea.png width=\"500\" height=\"500\" >"
   ]
  },
  {
   "cell_type": "markdown",
   "id": "da1aed27",
   "metadata": {},
   "source": [
    "## Gráfico de barras\n",
    "\n",
    "Un segundo gráfico que es muy utilizado tanto en Data Science como en otras áreas ,son los gráficos de barra.Este tipo de gráfico nos permite desarrollar una visualización en donde trabajamos con 2 variables.En donde nuestra variable x corresponde a las categorías que queremos representar y la variable y a la magnitud o cantidades de cada una de estas categorías.\n",
    "\n",
    "A continuación podemos ver como desarrollar este tipo de gráfico mediante la sintáxis de Plotly."
   ]
  },
  {
   "cell_type": "code",
   "execution_count": null,
   "id": "87757c4b",
   "metadata": {},
   "outputs": [],
   "source": [
    "using Plots,WebIO,IJulia\n",
    "\n",
    "## Lets jump right in\n",
    "data = rand(10)\n",
    "f = Plots.bar(data)\n",
    "f"
   ]
  },
  {
   "cell_type": "markdown",
   "id": "3b5c0fe5",
   "metadata": {},
   "source": [
    "\n",
    "<img src=graficos/graficos_barra.png width=\"500\" height=\"500\" >"
   ]
  },
  {
   "cell_type": "markdown",
   "id": "e745ccae",
   "metadata": {},
   "source": [
    "## Histogramas\n",
    "\n",
    "\n",
    "A diferencia de los gráficos anteriores,el histograma es un tipo de visualización que nos permite visualizar las frecuencias acumuladas en una muestra.Si bien hay algunos conceptos y tópicos de mucho intéres que podemos analizar y verificar en un histograma,por ahora solo nos dedicaremos al desarrollo de este tipo de gráfico.\n",
    "\n",
    "Asi como usamos anteriormente,en este caso tambien utilizaremos el paquete DataFrames para la generación de los datos."
   ]
  },
  {
   "cell_type": "code",
   "execution_count": null,
   "id": "df7da1ea",
   "metadata": {},
   "outputs": [],
   "source": [
    "using Plots,WebIO,IJulia\n",
    "\n",
    "## Lets jump right in\n",
    "data = rand(100)\n",
    "f = histogram(data,nbins=9)\n",
    "f"
   ]
  },
  {
   "cell_type": "markdown",
   "id": "4e51c687",
   "metadata": {},
   "source": [
    "\n",
    "<img src=graficos/graficos_histogram.png width=\"500\" height=\"500\" >"
   ]
  },
  {
   "cell_type": "markdown",
   "id": "99891092",
   "metadata": {},
   "source": [
    "## Diagramas de cajas\n",
    "\n",
    "Y hemos llegado al final de esta sección... 😁.El último grafico que veremos sera el diagrama de cajas,el cual tiene algunas similitudes con el histograma pero sin duda que nos muestran aspectos distintos de una muestra.Las similitudes que comparten principalmente son las medidas estadisticas que podemos ver en ellos como la media,mediana,entre otros.\n",
    "\n",
    "Sin embargo el diagrama de cajas es mucho más explícito para mostrar algunos estadísticos relevantes.\n",
    "\n",
    "A continuación vemos la sintáxis del diagrama de cajas,luego analizamos algunos de los estadísticos que observamos en la imagen."
   ]
  },
  {
   "cell_type": "code",
   "execution_count": null,
   "id": "3d2baf92",
   "metadata": {},
   "outputs": [],
   "source": []
  }
 ],
 "metadata": {
  "@webio": {
   "lastCommId": "2bb8f1c1-10e6-4c5f-9c90-bfe6900409ae",
   "lastKernelId": "cc63e77d-8ef4-4151-b9b9-b0b9d3db4ce2"
  },
  "kernelspec": {
   "display_name": "Julia 1.7.3",
   "language": "julia",
   "name": "julia-1.7"
  },
  "language_info": {
   "file_extension": ".jl",
   "mimetype": "application/julia",
   "name": "julia",
   "version": "1.7.3"
  }
 },
 "nbformat": 4,
 "nbformat_minor": 5
}
