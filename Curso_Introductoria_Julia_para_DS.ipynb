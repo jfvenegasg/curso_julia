{
 "cells": [
  {
   "cell_type": "markdown",
   "id": "b700be13",
   "metadata": {
    "tags": []
   },
   "source": [
    "# Bienvenido al curso introductorio de Julia para Data Science\n",
    "\n",
    "<center>\n",
    "<img src=julia.png>"
   ]
  },
  {
   "cell_type": "markdown",
   "id": "c61f79b7",
   "metadata": {},
   "source": [
    "## Objetivos\n",
    "\n",
    "* Comprender los conceptos y funcionalidades básicas del lenguaje Julia\n",
    "* Análisis y desarrollo de código para su posterior uso."
   ]
  },
  {
   "cell_type": "markdown",
   "id": "f70f559c",
   "metadata": {},
   "source": [
    "<a id='Indice'></a>\n",
    "## Índice\n",
    "[Inicio ▲](#Indice)\n",
    "\n",
    "1. [Introducción](#Introduccion)\n",
    "1. [Variables básicas](#Variables-basicas)\n",
    "1. [Ciclos](#Ciclos)\n",
    "1. [Funciones](#Funciones)\n",
    "1. [Diccionarios](#Diccionarios)\n",
    "1. [Paquetes](#Paquetes)\n",
    "\n"
   ]
  },
  {
   "cell_type": "markdown",
   "id": "c7346f2a",
   "metadata": {},
   "source": [
    "<a id='Introduccion'></a>\n",
    "### Introducción 🎯\n",
    "\n",
    "[Inicio ▲](#Indice)\n",
    "\n",
    "Julia es un lenguaje de propósito general de código abierto,dinámico y de alto rendimiento basado en un compilador avanzado (JIT),que permite que el código se ejecute rápido como si fuera compilado.\n",
    "\n",
    "Sin embargo,algunas de las caracteristicas mas interesantes de Julia para Ciencias e Ingeniería,son las siguientes:\n",
    "\n",
    "* Sintáxis Matemáticas: Lleva el lenguaje matemático al código de programación similar a como lo realizan software como Mathematica.\n",
    "\n",
    "* Buen desempeño: Tiene un rendimiento similar a lenguajes compilados como C.\n",
    "\n",
    "* Diseño paralelo: Esta desarrollado para la computación paralela y distribuida.\n",
    "\n",
    "* Entre otros...\n",
    "\n",
    "La última versión descargable de Julia es la versión 1.8.1 y la puedes descargar desde el siguiente enlance [Julia](https://julialang.org/downloads/).Además puedes instalar algunos Entornos de desarrollo para utilizar Julia como [VSCode](https://code.visualstudio.com/) o incluso puedes utilizar la Suite [JupyterLab](https://jupyter.org/).Sin embargo en este curso utilizaremos la versión 1.7.3."
   ]
  },
  {
   "cell_type": "markdown",
   "id": "263c4479",
   "metadata": {},
   "source": [
    "<a id='Variables-basicas'></a>\n",
    "### Variables básicas 🎹\n",
    "\n",
    "[Inicio ▲](#Indice)\n",
    "\n",
    "Uno de los primeros puntos a considerar en lenguajes como MatLab,R,Python,entre otros,es la definición de variables.En el caso de Julia,podemos considerar que las variables básicas que podemos definir son variables numéricas y de cadena de texto."
   ]
  },
  {
   "cell_type": "code",
   "execution_count": 9,
   "id": "a0ffb50e",
   "metadata": {},
   "outputs": [
    {
     "data": {
      "text/plain": [
       "Int64"
      ]
     },
     "execution_count": 9,
     "metadata": {},
     "output_type": "execute_result"
    }
   ],
   "source": [
    "x=10\n",
    "typeof(x)"
   ]
  },
  {
   "cell_type": "code",
   "execution_count": 10,
   "id": "3d375107",
   "metadata": {},
   "outputs": [
    {
     "data": {
      "text/plain": [
       "String"
      ]
     },
     "execution_count": 10,
     "metadata": {},
     "output_type": "execute_result"
    }
   ],
   "source": [
    "y=\"Proyecto exitoso\"\n",
    "typeof(y)"
   ]
  },
  {
   "cell_type": "markdown",
   "id": "47465505",
   "metadata": {},
   "source": [
    "En este caso definimos la variable ***x*** que almacena el valor **10** y la variable y que almacena el texto **\"Proyecto exitoso\"**.Luego verificamos el tipo de variable que es cada una,mediante la funcion **typeof()**.\n",
    "\n",
    "Sin embargo,tal vez una de las características mas importantes de Julia es la existencia de jerarquía en las variables numéricas.De esta forma, es posible transformar un valor entero en formatos de **Float64**,**Float32** o **Float16** correspondientes a números de doble,única o la mitad de la precisión.\n"
   ]
  },
  {
   "cell_type": "code",
   "execution_count": 21,
   "id": "1acac814",
   "metadata": {},
   "outputs": [
    {
     "data": {
      "text/plain": [
       "2.0"
      ]
     },
     "execution_count": 21,
     "metadata": {},
     "output_type": "execute_result"
    }
   ],
   "source": [
    "Float64(2)"
   ]
  },
  {
   "cell_type": "code",
   "execution_count": 22,
   "id": "0fb41a34",
   "metadata": {},
   "outputs": [
    {
     "data": {
      "text/plain": [
       "2.0f0"
      ]
     },
     "execution_count": 22,
     "metadata": {},
     "output_type": "execute_result"
    }
   ],
   "source": [
    "Float32(2)"
   ]
  },
  {
   "cell_type": "code",
   "execution_count": 23,
   "id": "863b8276",
   "metadata": {},
   "outputs": [
    {
     "data": {
      "text/plain": [
       "Float16(2.0)"
      ]
     },
     "execution_count": 23,
     "metadata": {},
     "output_type": "execute_result"
    }
   ],
   "source": [
    "Float16(2)"
   ]
  },
  {
   "cell_type": "markdown",
   "id": "93cc3e8a",
   "metadata": {},
   "source": [
    "Si queremos realizar la operación inversa,transformar una variable float en integer,no siempre sera válida debido a la jerarquía en las variables.Es por esto que es preferible utilizar funciones como **ceil()**,**floor()** o **round()**.\n",
    "\n",
    "Si consideramos el siguiente caso"
   ]
  },
  {
   "cell_type": "code",
   "execution_count": null,
   "id": "3deb9529",
   "metadata": {},
   "outputs": [],
   "source": [
    "Int64(2.4)"
   ]
  },
  {
   "cell_type": "markdown",
   "id": "66b30dce",
   "metadata": {},
   "source": [
    "Nos lanzara un error,ya que no se puede transformar a valor entero el decimal 2.4.Para esto preferimos utilizar la siguientes funciones."
   ]
  },
  {
   "cell_type": "code",
   "execution_count": 26,
   "id": "2073f3ca",
   "metadata": {},
   "outputs": [
    {
     "data": {
      "text/plain": [
       "2"
      ]
     },
     "execution_count": 26,
     "metadata": {},
     "output_type": "execute_result"
    }
   ],
   "source": [
    "floor(Int64,2.4)"
   ]
  },
  {
   "cell_type": "code",
   "execution_count": 27,
   "id": "49240dac",
   "metadata": {},
   "outputs": [
    {
     "data": {
      "text/plain": [
       "3"
      ]
     },
     "execution_count": 27,
     "metadata": {},
     "output_type": "execute_result"
    }
   ],
   "source": [
    "ceil(Int64,2.4)"
   ]
  },
  {
   "cell_type": "code",
   "execution_count": 28,
   "id": "28875180",
   "metadata": {},
   "outputs": [
    {
     "data": {
      "text/plain": [
       "2"
      ]
     },
     "execution_count": 28,
     "metadata": {},
     "output_type": "execute_result"
    }
   ],
   "source": [
    "round(Int64,2.4)"
   ]
  },
  {
   "cell_type": "markdown",
   "id": "acba0ac9",
   "metadata": {},
   "source": [
    "En los 3 casos estamos transformando el mismo valor decimal,sin embargo la función determina si se redondea al valor mas cercano hacia abajo o hacia arriba."
   ]
  },
  {
   "cell_type": "markdown",
   "id": "aea85382",
   "metadata": {},
   "source": [
    "<a id='Ciclos'></a>\n",
    "### Ciclos 🎢\n",
    "\n",
    "[Inicio ▲](#Indice)\n",
    "\n",
    "Uno de los aspectos mas importantes en la mayoría de los lenguajes, son los ciclos o loops para el desarrollo de iteraciones en distintos contextos,ya sea recorrer los valores en una lista o matriz,iterar una función, imprimir mensajes por pantalla con alguna variable que cambia de valor,entre otros aspectos.\n",
    "\n",
    "Uno de los primeros puntos que podemos ver es la sintáxis,la cual es muy similar a lenguajes como Matlab o R,en donde usamos la funcion **println()**,ya que nos permite imprimir cada valor de **i** en una nueva línea."
   ]
  },
  {
   "cell_type": "code",
   "execution_count": 3,
   "id": "ee4b9852",
   "metadata": {},
   "outputs": [
    {
     "name": "stdout",
     "output_type": "stream",
     "text": [
      "1\n",
      "2\n",
      "3\n",
      "4\n",
      "5\n",
      "6\n",
      "7\n",
      "8\n",
      "9\n",
      "10\n"
     ]
    }
   ],
   "source": [
    "for i in 1:10\n",
    "    println(i)\n",
    "end"
   ]
  },
  {
   "cell_type": "markdown",
   "id": "09e31cbd",
   "metadata": {},
   "source": [
    "En caso contrario si usamos en Julia la funcion **print()** obtenemos la misma secuencia pero se imprimen todos los valores en la misma línea."
   ]
  },
  {
   "cell_type": "code",
   "execution_count": 4,
   "id": "52be59bf",
   "metadata": {},
   "outputs": [
    {
     "name": "stdout",
     "output_type": "stream",
     "text": [
      "12345678910"
     ]
    }
   ],
   "source": [
    "for i in 1:10\n",
    "    print(i)\n",
    "end"
   ]
  },
  {
   "cell_type": "markdown",
   "id": "cc4d54b8",
   "metadata": {},
   "source": [
    "Sin embargo, el ciclo for tambien puede recorrer otro tipo de estructuras de datos o variables.En algunos casos podriamos querer recorrer los valores en un vector previamente definido"
   ]
  },
  {
   "cell_type": "code",
   "execution_count": 6,
   "id": "2c6a37e9",
   "metadata": {},
   "outputs": [
    {
     "name": "stdout",
     "output_type": "stream",
     "text": [
      "10\n",
      "20\n",
      "30\n",
      "40\n",
      "50\n"
     ]
    }
   ],
   "source": [
    "for i in [10,20,30,40,50]\n",
    "    println(i)\n",
    "end"
   ]
  },
  {
   "cell_type": "markdown",
   "id": "26aea741",
   "metadata": {},
   "source": [
    "O incluso podriamos recorrer uno a uno los caracteres en una cadena de texto... cualquier parecido con la realidad es mera coincidencia. 👀"
   ]
  },
  {
   "cell_type": "code",
   "execution_count": 8,
   "id": "b0d224fd",
   "metadata": {},
   "outputs": [
    {
     "name": "stdout",
     "output_type": "stream",
     "text": [
      "L\n",
      "u\n",
      "n\n",
      "e\n",
      "s\n"
     ]
    }
   ],
   "source": [
    "for i in \"Lunes\"\n",
    "    println(i)\n",
    "end"
   ]
  },
  {
   "cell_type": "markdown",
   "id": "95789940",
   "metadata": {},
   "source": [
    "Afortunadamente no solo existe el ciclo for para realizar iteraciones.Sino que también podemos hacer uso del ciclo ***while***,el cual tiene una sintáxis un poco mas breve,pero que sin embargo debemos tener algunos cuidados.\n",
    "\n",
    "En este caso el ciclo while se ejecuta siempre que sea cierta la condición lógica,pero en el caso que la condición logica deje de ser verdadera se ejecuta el código que viene despues de la palabra reservada **end**\n",
    "\n",
    "Una sintáxis clásica es el homólogo del ciclo for."
   ]
  },
  {
   "cell_type": "code",
   "execution_count": 10,
   "id": "5e1c386e",
   "metadata": {},
   "outputs": [
    {
     "name": "stdout",
     "output_type": "stream",
     "text": [
      "1\n",
      "2\n",
      "3\n",
      "4\n",
      "5\n",
      "6\n",
      "7\n",
      "8\n",
      "9\n",
      "10\n"
     ]
    }
   ],
   "source": [
    "i = 1\n",
    "while i <= 10\n",
    "    println(i)\n",
    "    i=i+1\n",
    "end"
   ]
  },
  {
   "cell_type": "markdown",
   "id": "aa3eba18",
   "metadata": {},
   "source": [
    "En este caso a diferencia del ciclo **for**,primero tenemos que inicializar la variable **i**,para luego definir la condición lógica, en este caso mientras i sea menor o igual que 10 se debe imprimir las instrucciones que se encuentran en el bloque.Luego definimos 2 instrucciones,primero que se imprima el valor de **i** para luego redefinir el valor de i como **i=i+1**,asi de esta forma en cada iteración el valor de i va aumentando en 1.🪃"
   ]
  },
  {
   "cell_type": "markdown",
   "id": "619da3e0",
   "metadata": {},
   "source": [
    "Uno de los principales cuidados que debemos tener al utilizar el ciclo **While**,es que mientras la condición lógica sea verdadera las instrucciones siempre se ejecutan,por tanto si la condición nunca deja de ser verdadera el ciclo se ejecuta de forma indefinida,ocasionando que en el peor de los casos el software se cierre de forma abrupta.Un caso común es el que se muestra en la sintáxis... 🔥"
   ]
  },
  {
   "cell_type": "code",
   "execution_count": null,
   "id": "5f8ba8ca",
   "metadata": {},
   "outputs": [],
   "source": [
    "i = 1\n",
    "while i > 0\n",
    "    println(i)\n",
    "    i=i+1\n",
    "end"
   ]
  },
  {
   "cell_type": "markdown",
   "id": "4638d216",
   "metadata": {},
   "source": [
    "Pero bueno,si necesitamos que la condición si sea la que ya definimos,podriamos hacer uso de dos comandos muy útiles,en este caso **break** y **continue**.\n",
    "\n",
    "Si consideramos el último ciclo while,podriamos hacer que la variable ***i*** alcance un determinado valor el ciclo termine."
   ]
  },
  {
   "cell_type": "code",
   "execution_count": 3,
   "id": "2677ddec",
   "metadata": {},
   "outputs": [
    {
     "name": "stdout",
     "output_type": "stream",
     "text": [
      "1\n",
      "2\n",
      "3\n",
      "4\n",
      "5\n",
      "6\n",
      "7\n",
      "8\n",
      "9\n",
      "10\n",
      "11\n",
      "12\n",
      "13\n",
      "14\n"
     ]
    }
   ],
   "source": [
    "i = 1\n",
    "while i > 0\n",
    "    if i ==15\n",
    "        break;\n",
    "    end\n",
    "    println(i)\n",
    "    i=i+1\n",
    "end"
   ]
  },
  {
   "cell_type": "markdown",
   "id": "099b542d",
   "metadata": {},
   "source": [
    "Afortunadamente resulto bien la sintáxis jajaj... Bueno como pueden ver acá agregamos una condición,en este caso se verifiqua si el valor de ***i*** llegó a 15,si es el caso entonces el while termina,pero mientras no llegue a ese valor se puede seguir ejecutando."
   ]
  },
  {
   "cell_type": "markdown",
   "id": "d514d365",
   "metadata": {},
   "source": [
    "Y tal vez uno de los favoritos para muchos son los ciclos anidados 🙄.En general cuando hablamos de ciclos anidados hacemos referencia a incluir un ciclo dentro de otro,algo típico que podriamos ver seria lo siguiente."
   ]
  },
  {
   "cell_type": "code",
   "execution_count": 14,
   "id": "29736da6",
   "metadata": {},
   "outputs": [
    {
     "name": "stdout",
     "output_type": "stream",
     "text": [
      "i tiene el valor 1 y j tiene el valor 1\n",
      "i tiene el valor 1 y j tiene el valor 2\n",
      "i tiene el valor 1 y j tiene el valor 3\n",
      "i tiene el valor 2 y j tiene el valor 1\n",
      "i tiene el valor 2 y j tiene el valor 2\n",
      "i tiene el valor 2 y j tiene el valor 3\n",
      "i tiene el valor 3 y j tiene el valor 1\n",
      "i tiene el valor 3 y j tiene el valor 2\n",
      "i tiene el valor 3 y j tiene el valor 3\n"
     ]
    }
   ],
   "source": [
    "for i in 1:3\n",
    "    for j=1:3\n",
    "        println(\"i tiene el valor \",i,\" y j tiene el valor \",j)\n",
    "    end\n",
    "end"
   ]
  },
  {
   "cell_type": "markdown",
   "id": "11c17d35",
   "metadata": {},
   "source": [
    "Aca estamos usando 2 ciclos for.El primero de ellos recorre los valores que puede tomar la variable ***i*** (1,2,3) y luego el ciclo de adentro recorre \n",
    "los valores que puede tomar la variable ***j***.De esta forma cuando ***i*** tiene el valor de 1,se recorren todos los valores de j y asi de forma sucesiva con los siguientes valores."
   ]
  },
  {
   "cell_type": "markdown",
   "id": "972b627a",
   "metadata": {},
   "source": [
    "Haciendo uso de ciclos pero esta vez de forma separada,podriamos hacer algo un poco mas matemático.🤓"
   ]
  },
  {
   "cell_type": "code",
   "execution_count": 39,
   "id": "ec3aa2c6",
   "metadata": {},
   "outputs": [
    {
     "data": {
      "text/plain": [
       "5×5 Matrix{Int64}:\n",
       " 1  0  0  0  1\n",
       " 0  1  0  1  0\n",
       " 0  0  1  0  0\n",
       " 0  1  0  1  0\n",
       " 1  0  0  0  1"
      ]
     },
     "execution_count": 39,
     "metadata": {},
     "output_type": "execute_result"
    }
   ],
   "source": [
    "x=[0 0 0 0 0; 0 0 0 0 0; 0 0 0 0 0; 0 0 0 0 0;  0 0 0 0 0]\n",
    "\n",
    "for i in 1:5\n",
    "    x[i,i]=1\n",
    "end\n",
    "for i in 1:5\n",
    "    x[i,-i+6]=1\n",
    "end\n",
    "\n",
    "x"
   ]
  },
  {
   "cell_type": "markdown",
   "id": "0d25e382",
   "metadata": {},
   "source": [
    "Un último importante y no menor,es algo que vimos de forma indirecta en uno de los ciclos anteriormente y corresponde a los condicionales y operadores lógicos.\n",
    "\n",
    "Los ***condicionales*** sirven para ejecutar una instrucción siempre que se cumpla una condición.Sin embargo,podemos verificar n condiciones si fuera necesario las cuales las podemos realizar mediante operadores lógicos.\n",
    "\n",
    "<table ><tr><th >Operador <th><th> Descripción <tr><tr>\n",
    "<tr><td> < <td><td> Menor a <td><tr>\n",
    "<tr><td> > <td><td> Mayor a <td><tr>\n",
    "<tr><td> < = <td><td> Menor o igual a <td><tr>\n",
    "<tr><td> >= <td><td> Mayor o igual a <td><tr>\n",
    "<tr><td> == <td><td> Igual a <td><tr>\n",
    "<tr><td> != <td><td> No es igual a <td><tr>\n",
    "<tr><td> | <td><td> Si al menos una es verdadera (o). <td><tr>\n",
    "<tr><td> || <td><td> Si al menos la primera s verdadera <td><tr>\n",
    "<tr><td> & <td><td> Es Verdadero si todas lo son. <td><tr>\n",
    "<tr><td> ! <td><td> Negación <td><tr>\n",
    "<tr><td> any <td><td> Es Verdadero si algun elemento de un arreglo booleano es verdadero. <td><tr>\n",
    "<tr><td> all <td><td> Es verdadero si se cumple que todos los elementos de un arreglo booleano son Verdaderos. <td><tr>\n",
    "<tr><td> || <td><td> Menor a <td><tr><table>    \n",
    "    \n",
    "A pesar de ser una tabla un poco extensa... estos operadores si que son muy útiles.🧭\n",
    "    \n",
    "    \n",
    "Una caso bastante común es querer validar si un valor es positivo,negativo o igual a 0.Para esto utilizaremos una función que nos genere automáticamente números aleatorios."
   ]
  },
  {
   "cell_type": "code",
   "execution_count": 60,
   "id": "062f8c55",
   "metadata": {},
   "outputs": [
    {
     "name": "stdout",
     "output_type": "stream",
     "text": [
      "1.0388530297170369\n",
      "A es positivo\n"
     ]
    }
   ],
   "source": [
    "A=randn()\n",
    "\n",
    "println(A)\n",
    "\n",
    "if A>0\n",
    "    println(\"A es positivo\")\n",
    "elseif A==0\n",
    "    println(\"A es cero\")\n",
    "else\n",
    "    println(\"A es negativo\")\n",
    "end"
   ]
  },
  {
   "cell_type": "markdown",
   "id": "68db379a",
   "metadata": {},
   "source": [
    "Así cada vez que se ejecute el bloque de código anterior,se genera un número nuevo y se valida cualquiera de las 3 condiciones,devolviendonos el mensaje correspondiente."
   ]
  },
  {
   "cell_type": "markdown",
   "id": "cbd8a2e0",
   "metadata": {},
   "source": [
    "<a id='Funciones'></a>\n",
    "### Funciones ⛩\n",
    "\n",
    "[Inicio ▲](#Indice)\n",
    "\n",
    "Los bloques de código que hemos visto hasta el momento,representan definiciones de variables,iteración de una o mas instrucciones,entre otros aspectos.Sin embargo cuando hablamos de funciones,nos referimos a un conjunto de instrucciones pero que encapsulamos bajo un nombre,a la cual se le puede asignar una o mas variables de entrada y asi mismo podemos tener algunas salidas de esta misma.\n",
    "\n",
    "Una de las funciones que ya hemos utilizado y que viene precargada en Julia es la función ***println()***,de la cual incluso hemos visto algunos de los argumentos de esta."
   ]
  },
  {
   "cell_type": "code",
   "execution_count": 3,
   "id": "84abc853",
   "metadata": {},
   "outputs": [
    {
     "name": "stdout",
     "output_type": "stream",
     "text": [
      "Hola mundo\n"
     ]
    }
   ],
   "source": [
    "mensaje=println(\"Hola mundo\")\n",
    "mensaje"
   ]
  },
  {
   "cell_type": "markdown",
   "id": "2c2a7d25",
   "metadata": {},
   "source": [
    "Otra función importante en Julia es ***parse()***,la cual toma una cadena y si es posible la transforma en algún tipo de número,sin embargo si no es posible arroja un error."
   ]
  },
  {
   "cell_type": "code",
   "execution_count": 8,
   "id": "667e594d",
   "metadata": {},
   "outputs": [
    {
     "data": {
      "text/plain": [
       "3.1415"
      ]
     },
     "execution_count": 8,
     "metadata": {},
     "output_type": "execute_result"
    }
   ],
   "source": [
    "conversion_1=parse(Int64,\"44\")\n",
    "conversion_1"
   ]
  },
  {
   "cell_type": "markdown",
   "id": "805a228c",
   "metadata": {},
   "source": [
    "Tambien podriamos aplicar una función a una ya utilizada.En este caso convertimos la cadena de texto \"3.1415\" a numero,pero luego utilizamos la función ***trunc()*** para truncar el valor de $\\pi.$"
   ]
  },
  {
   "cell_type": "code",
   "execution_count": 9,
   "id": "82caefbd",
   "metadata": {},
   "outputs": [
    {
     "data": {
      "text/plain": [
       "3.0"
      ]
     },
     "execution_count": 9,
     "metadata": {},
     "output_type": "execute_result"
    }
   ],
   "source": [
    "conversion_2=parse(Float64,\"3.1415\")\n",
    "trunc(conversion_2)"
   ]
  },
  {
   "cell_type": "markdown",
   "id": "e0f62f92",
   "metadata": {},
   "source": [
    "Pero vamos a lo interesante... ya que por mas funciones que vengan diseñadas,en muchos casos vamos a requerir de la creación de nuestras propias funciones.\n",
    "\n",
    "De esta forma para crear una función,debemos especificar tanto su nombre como las instrucciones que queremos ejecutar.Asi podriamos definir una función que solo imprima un mensaje por pantalla cada vez que la llamemos."
   ]
  },
  {
   "cell_type": "code",
   "execution_count": 11,
   "id": "28b686b7",
   "metadata": {},
   "outputs": [
    {
     "name": "stdout",
     "output_type": "stream",
     "text": [
      "Hola a todos\n"
     ]
    }
   ],
   "source": [
    "function saludo()\n",
    "    println(\"Hola a todos\")\n",
    "end\n",
    "\n",
    "saludo()"
   ]
  },
  {
   "cell_type": "markdown",
   "id": "8cf7eb08",
   "metadata": {},
   "source": [
    "De esta forma debemos siempre respetar la estructura para el diseño de funciones.Esto implica que cada función siempre debe comenzar con la palabra reservada **function** seguida de el nombre de la función con una apertura y cierre de paréntesis.Luego debemos desarrollar el conjunto de instrucciones que buscamos que ejecute la función cada vez que la llamemos y finalmente debemos terminar con la palabra reservada **end**.\n",
    "\n",
    "Sin embargo,una función tambien puede utilizar parámetros de entrada los cuales pueden modificar parcialmente o totalmente el conjunto de instrucciones que se definen dentro de ella.\n",
    "\n",
    "Si tomamos la función **saludo** que definimos anteriormente,podriamos hacer que esta no solo salude de forma genérica sino que salude a una persona en particular,lo cual lo hara cuando le pasemos el nombre de la persona."
   ]
  },
  {
   "cell_type": "code",
   "execution_count": 29,
   "id": "ac4fe712",
   "metadata": {},
   "outputs": [
    {
     "name": "stdout",
     "output_type": "stream",
     "text": [
      "Buen día juan\n"
     ]
    }
   ],
   "source": [
    "function saludo(nombre)\n",
    "    println(string(\"Buen día\",\" \",nombre))\n",
    "end\n",
    "\n",
    "saludo(\"juan\")"
   ]
  },
  {
   "cell_type": "markdown",
   "id": "57581789",
   "metadata": {},
   "source": [
    "Pero si profundizamos un poco en la función saludo,incluso podriamos agregar otros datos o información releevante de a quien debe saludar la función.Además del nombre,podriamos agregar la edad de la persona y el saldo que tiene en su tarjeta de transporte"
   ]
  },
  {
   "cell_type": "code",
   "execution_count": 41,
   "id": "778e36a2",
   "metadata": {},
   "outputs": [
    {
     "name": "stdout",
     "output_type": "stream",
     "text": [
      "Buen día juan su edad es de 25 y usted tiene un saldo de 100 en su tarjeta\n"
     ]
    }
   ],
   "source": [
    "function saludo(nombre,edad,saldo)\n",
    "    println(string(\"Buen día\",\" \",nombre,\" su edad es de \",edad,\" y usted tiene un saldo de \",saldo,\" en su tarjeta\"))\n",
    "end\n",
    "\n",
    "saludo(\"juan\",25,100)"
   ]
  },
  {
   "cell_type": "markdown",
   "id": "dbca1ac1",
   "metadata": {},
   "source": [
    "Como se ve pudimos editar la función,ahora la función **saludo()** acepta 3 parámetros de entrada los cuales corresponden al nombre,la edad y el saldo.Así tambien se edito el texto que imprime la función,ya que ahora hace uso de los 2 nuevos parámetros "
   ]
  },
  {
   "cell_type": "markdown",
   "id": "76b04905",
   "metadata": {},
   "source": [
    "<a id='Diccionarios'></a>\n",
    "### Diccionarios 📊\n",
    "\n",
    "[Inicio ▲](#Indice)\n",
    "\n",
    "Un tipo de estructura importante en Julia asi como en otros lenguajes como Python son los diccionarios.Estos tienen algunos elementos en común con las matrices,pero son de un uso mas general 📚.\n",
    "\n",
    "Un diccionario contiene un conjunto de índices correspondientes a las ***claves*** y otro conjunto correspondiente a los ***valores***.De esta forma cada clave se asocia a un único valor,llamando a esta asociación par *clave-valor*.\n",
    "\n",
    "Tal vez de forma similar a lo que podemos hacer en Python con algunas librerias, en Julia podemos hacer uso de la función ***Dict()*** para crear un nuevo diccionario que inicialmente no guarde ningún par ***clave-valor***."
   ]
  },
  {
   "cell_type": "code",
   "execution_count": 2,
   "id": "0ba8c5ff",
   "metadata": {},
   "outputs": [
    {
     "data": {
      "text/plain": [
       "Dict{Any, Any}()"
      ]
     },
     "execution_count": 2,
     "metadata": {},
     "output_type": "execute_result"
    }
   ],
   "source": [
    "diccionario=Dict()\n",
    "\n",
    "diccionario"
   ]
  },
  {
   "cell_type": "markdown",
   "id": "8006651f",
   "metadata": {},
   "source": [
    "Sin embargo si quisieramos agregar un par clave-valor,podríamos utilizar la siguiente sintáxis."
   ]
  },
  {
   "cell_type": "code",
   "execution_count": 5,
   "id": "21d3b43a",
   "metadata": {},
   "outputs": [
    {
     "data": {
      "text/plain": [
       "Dict{Any, Any} with 1 entry:\n",
       "  \"primero\" => 2"
      ]
     },
     "execution_count": 5,
     "metadata": {},
     "output_type": "execute_result"
    }
   ],
   "source": [
    "diccionario[\"primero\"]=2\n",
    "\n",
    "diccionario"
   ]
  },
  {
   "cell_type": "markdown",
   "id": "bec1d072",
   "metadata": {},
   "source": [
    "Como se observa en la salida del diccionario,aca solo contamos con un único par clave-valor.En donde la llave es la cadena \"primero\" y el valor es 2"
   ]
  },
  {
   "cell_type": "markdown",
   "id": "26a53720",
   "metadata": {},
   "source": [
    "Pero si buscamos tener un diccionario con una mayor cantidad de pares,podemos hacer lo siguiente."
   ]
  },
  {
   "cell_type": "code",
   "execution_count": 8,
   "id": "faf162e4",
   "metadata": {},
   "outputs": [
    {
     "data": {
      "text/plain": [
       "Dict{String, Int64} with 5 entries:\n",
       "  \"segundo\" => 2\n",
       "  \"primero\" => 1\n",
       "  \"cuarto\"  => 4\n",
       "  \"quinto\"  => 5\n",
       "  \"tercero\" => 3"
      ]
     },
     "execution_count": 8,
     "metadata": {},
     "output_type": "execute_result"
    }
   ],
   "source": [
    "diccionario=Dict(\"primero\"=>1,\"segundo\"=>2,\"tercero\"=>3,\"cuarto\"=>4,\"quinto\"=>5)\n",
    "\n",
    "diccionario"
   ]
  },
  {
   "cell_type": "markdown",
   "id": "3669db81",
   "metadata": {},
   "source": [
    "Como podemos ver,en este caso ya contamos con un diccionario que cuenta con 5 pares,en donde llaves son del tipo ***\"String\"*** y los valores son del tipo ***\"Int64\"***.Sin embargo los pares no se muestran en el mismo orden en que realizamos su definición,lo cual es irrelevante en los diccionarios ya que las pares no se crean de forma correlativa y generalmente llamaremos a la llave para obtener el valor que deseamos."
   ]
  },
  {
   "cell_type": "markdown",
   "id": "76905a8a",
   "metadata": {},
   "source": [
    "En este contexto si contamos con diccionarios con una mayor longitud,en muchas ocasiones habran algunas caracteristicas que no son tan evidentes🧭  como en el diccionario que ya hemos definido 📕.\n",
    "\n",
    "Para esto podemos utilizar algunas de las funciones que vienen precargadas en Julia... las cuales utilizaremos a continuación."
   ]
  },
  {
   "cell_type": "code",
   "execution_count": null,
   "id": "de292dab",
   "metadata": {},
   "outputs": [],
   "source": [
    "Una de las primeras cosas que podemos hacer es buscar un valor en el diccionario por su llave"
   ]
  },
  {
   "cell_type": "code",
   "execution_count": 9,
   "id": "42f56d8a",
   "metadata": {},
   "outputs": [
    {
     "data": {
      "text/plain": [
       "5"
      ]
     },
     "execution_count": 9,
     "metadata": {},
     "output_type": "execute_result"
    }
   ],
   "source": [
    "diccionario=Dict(\"primero\"=>1,\"segundo\"=>2,\"tercero\"=>3,\"cuarto\"=>4,\"quinto\"=>5)\n",
    "\n",
    "diccionario[\"quinto\"]"
   ]
  },
  {
   "cell_type": "markdown",
   "id": "1fdd4930",
   "metadata": {},
   "source": [
    "Como podemos ver, si buscamos el valor que esta asignado a la llave **\"quinto\"**,obtenemos el valor que ya habiamos definido"
   ]
  },
  {
   "cell_type": "code",
   "execution_count": null,
   "id": "a1de1b7e",
   "metadata": {},
   "outputs": [],
   "source": [
    "Sin embargo,en algunas ocasiones no sabremos exactamente que pares tenemos o los nombres de ellos.Para esto primero podemos verificar el largo de nuestro diccionario."
   ]
  },
  {
   "cell_type": "code",
   "execution_count": 14,
   "id": "2b8fed84",
   "metadata": {},
   "outputs": [
    {
     "name": "stdout",
     "output_type": "stream",
     "text": [
      "5\n",
      "[\"segundo\", \"primero\", \"cuarto\", \"quinto\", \"tercero\"]\n"
     ]
    }
   ],
   "source": [
    "largo=length(diccionario)\n",
    "println(largo)\n",
    "\n",
    "llaves=keys(diccionario)\n",
    "println(llaves)"
   ]
  },
  {
   "cell_type": "markdown",
   "id": "18532147",
   "metadata": {},
   "source": [
    "En este utilizamos 2 funciones para hacer un barrido a nuestro diccionario.Primero verificamos el largo de nuestro diccionario con la función **length()** y luego usamos la función **keys()** para verificar cuales son todas las llaves que podemos llamar... lo que podemos verificar rapidamente porque no es muy extenso este diccionario 📋."
   ]
  },
  {
   "cell_type": "markdown",
   "id": "694a654b",
   "metadata": {},
   "source": [
    "<a id='Paquetes'></a>\n",
    "### Paquetes 📦\n",
    "\n",
    "[Inicio ▲](#Indice)\n",
    "\n",
    "Uno de los aspectos principales en lenguajes como Python,R,Julia y otros.Es la posibilidad de extender las capacidades del software.Es asi que mediante la carga de paquetes externos en Julia,podemos realizar calculos con algebra simbolica, realizar graficos,resolver problemas de optimización,entre otras tareas.\n",
    "\n",
    "Sin embargo en este primer curso introductorio de Julia abordaremos el desarrollo de cálculo con algebra simbolica y el desarrollo de gráficos con el paquete Plots"
   ]
  },
  {
   "cell_type": "markdown",
   "id": "036443d2",
   "metadata": {},
   "source": [
    "## Paquete SymPy 🧪\n",
    "Sin embargo,la primera librería que veremos es **SymPy** la cual nos permite declarar variables y funciones simbólicas,asi posteriormente podemos manipular estas expresiones y realizar la evaluación numérica."
   ]
  },
  {
   "cell_type": "code",
   "execution_count": 5,
   "id": "07f17f58",
   "metadata": {},
   "outputs": [
    {
     "data": {
      "text/plain": [
       "(x, y, z)"
      ]
     },
     "execution_count": 5,
     "metadata": {},
     "output_type": "execute_result"
    }
   ],
   "source": [
    "using SymPy;"
   ]
  },
  {
   "cell_type": "markdown",
   "id": "2dbda9f6",
   "metadata": {},
   "source": [
    "Luego tenemos 3 formas de definir las variables simbólicas,con las cuales queremos trabajar.La primera seria utilizar la función **Sym()**,como se muestra a continuación."
   ]
  },
  {
   "cell_type": "code",
   "execution_count": null,
   "id": "ffbe550d",
   "metadata": {},
   "outputs": [],
   "source": [
    "x,y,z=Sym(\"x,y,z\")"
   ]
  },
  {
   "cell_type": "markdown",
   "id": "e819a4b3",
   "metadata": {},
   "source": [
    "Además conservando la misma sintáxis,podriamos utilizar la función **symbols()**."
   ]
  },
  {
   "cell_type": "code",
   "execution_count": 10,
   "id": "3d45b976",
   "metadata": {},
   "outputs": [
    {
     "data": {
      "text/plain": [
       "(a, b, c)"
      ]
     },
     "execution_count": 10,
     "metadata": {},
     "output_type": "execute_result"
    }
   ],
   "source": [
    "a,b,c=symbols(\"a,b,c\")"
   ]
  },
  {
   "cell_type": "markdown",
   "id": "19a29911",
   "metadata": {},
   "source": [
    "Y una tercera opción seria utilizar la definición mediante los comandos **@vars** o **@syms**,obteniendo en ambos casos el mismo resultado."
   ]
  },
  {
   "cell_type": "code",
   "execution_count": 12,
   "id": "f12892fb",
   "metadata": {},
   "outputs": [
    {
     "data": {
      "text/plain": [
       "(a, b, c)"
      ]
     },
     "execution_count": 12,
     "metadata": {},
     "output_type": "execute_result"
    }
   ],
   "source": [
    "@vars a b c\n",
    "@syms a b c"
   ]
  },
  {
   "cell_type": "markdown",
   "id": "aff2f298",
   "metadata": {},
   "source": [
    "De esta forma,podemos utilizar cualquiera de los métodos anteriores para definir nuestras variables simbolicas.\n",
    "\n",
    "Sin embargo, la parte mas interesante para trabajar con algebra simbolica viene a continuación...🥁. Ya teniendo 2 set de variables,podemos de igual forma definir algunas ecuaciones para luego trabajar con ellas."
   ]
  },
  {
   "cell_type": "code",
   "execution_count": 16,
   "id": "63719228",
   "metadata": {},
   "outputs": [
    {
     "data": {
      "text/latex": [
       "$10 x + y + 3 z$"
      ],
      "text/plain": [
       "10*x + y + 3*z"
      ]
     },
     "execution_count": 16,
     "metadata": {},
     "output_type": "execute_result"
    }
   ],
   "source": [
    "f=10*x+1*y+3*z"
   ]
  },
  {
   "cell_type": "code",
   "execution_count": 17,
   "id": "599c9392",
   "metadata": {},
   "outputs": [
    {
     "data": {
      "text/latex": [
       "$a - 2 b + 10 c$"
      ],
      "text/plain": [
       "a - 2*b + 10*c"
      ]
     },
     "execution_count": 17,
     "metadata": {},
     "output_type": "execute_result"
    }
   ],
   "source": [
    "g=1*a-2*b+10*c"
   ]
  },
  {
   "cell_type": "markdown",
   "id": "f8d0951a",
   "metadata": {},
   "source": [
    "Como podemos ver hemos definido 2 expresiones en donde por el momento,ninguna de nuestras variables tienen un valor asignado.Sin embargo,podriamos evaluar ambas expresiones para un conjunto de valores que nosotros definamos."
   ]
  },
  {
   "cell_type": "markdown",
   "id": "3b865510",
   "metadata": {},
   "source": [
    "Si tomamos la primera expresión y le damos los valores **x=1**,**y=2** y **z=2**.Podemos utilizar la función **subs()** para evaluar la expresión en los valores recien mencionados"
   ]
  },
  {
   "cell_type": "code",
   "execution_count": 18,
   "id": "925eef37",
   "metadata": {},
   "outputs": [
    {
     "data": {
      "text/latex": [
       "$18$"
      ],
      "text/plain": [
       "18"
      ]
     },
     "execution_count": 18,
     "metadata": {},
     "output_type": "execute_result"
    }
   ],
   "source": [
    "f_num=subs(f,(x,1),(y,2),(z,2))\n",
    "f_num"
   ]
  },
  {
   "cell_type": "markdown",
   "id": "a1fa517b",
   "metadata": {},
   "source": [
    "De esta forma,al evaluar la expresión obtenemos el valor arrojado por pantalla.Pero si de todas formas queremos examinar otra respuesta de la expresión,podemos volver a evaluar."
   ]
  },
  {
   "cell_type": "code",
   "execution_count": 19,
   "id": "892fe7e7",
   "metadata": {},
   "outputs": [
    {
     "data": {
      "text/latex": [
       "$128$"
      ],
      "text/plain": [
       "128"
      ]
     },
     "execution_count": 19,
     "metadata": {},
     "output_type": "execute_result"
    }
   ],
   "source": [
    "f_num=subs(f,(x,10),(y,4),(z,8))\n",
    "f_num"
   ]
  },
  {
   "cell_type": "markdown",
   "id": "d9e88666",
   "metadata": {},
   "source": [
    "En este caso,evaluamos la expresión f en los valores **x=10**,**y=4** y **z=8**."
   ]
  },
  {
   "cell_type": "markdown",
   "id": "40f80179",
   "metadata": {},
   "source": [
    "Sin embargo,tambien es posible realizar alguna operaciones mas complejas como el calculo de derivadas,integrales y límites.\n",
    "\n",
    "De esta forma si definimos la siguiente funcion."
   ]
  },
  {
   "cell_type": "code",
   "execution_count": 24,
   "id": "e8cb3311",
   "metadata": {},
   "outputs": [
    {
     "data": {
      "text/latex": [
       "$10 x^{3} + 5 x^{2} + 4 x$"
      ],
      "text/plain": [
       "    3      2      \n",
       "10*x  + 5*x  + 4*x"
      ]
     },
     "execution_count": 24,
     "metadata": {},
     "output_type": "execute_result"
    }
   ],
   "source": [
    "x=Sym(\"x\")\n",
    "fx=10*x^3+5*x^2+4*x"
   ]
  },
  {
   "cell_type": "markdown",
   "id": "d4f4fabd",
   "metadata": {},
   "source": [
    "La derivada de la función será:\n",
    "\n",
    "$$\\frac{\\partial}{\\partial x}{10x^3+5x^2+4x}$$\n",
    "\n",
    "Luego el resultado seria el siguiente:"
   ]
  },
  {
   "cell_type": "code",
   "execution_count": 25,
   "id": "a60dacf6",
   "metadata": {},
   "outputs": [
    {
     "data": {
      "text/latex": [
       "$30 x^{2} + 10 x + 4$"
      ],
      "text/plain": [
       "    2           \n",
       "30*x  + 10*x + 4"
      ]
     },
     "execution_count": 25,
     "metadata": {},
     "output_type": "execute_result"
    }
   ],
   "source": [
    "diff(fx)"
   ]
  },
  {
   "cell_type": "code",
   "execution_count": null,
   "id": "d7144b91",
   "metadata": {},
   "outputs": [],
   "source": [
    "o tambien podriamos determinal la integral indefinida"
   ]
  },
  {
   "cell_type": "code",
   "execution_count": 26,
   "id": "235a014b",
   "metadata": {},
   "outputs": [
    {
     "data": {
      "text/latex": [
       "$\\frac{5 x^{4}}{2} + \\frac{5 x^{3}}{3} + 2 x^{2}$"
      ],
      "text/plain": [
       "   4      3       \n",
       "5*x    5*x       2\n",
       "---- + ---- + 2*x \n",
       " 2      3         "
      ]
     },
     "execution_count": 26,
     "metadata": {},
     "output_type": "execute_result"
    }
   ],
   "source": [
    "integrate(fx,x)"
   ]
  },
  {
   "cell_type": "markdown",
   "id": "4946a378",
   "metadata": {},
   "source": [
    "En cambio si quisieramos determinar la integral definida de la función anterior entre 0 y 1,tendriamos lo siguiente:\n",
    "\n",
    "$$\\int_{0}^1 {10x^3+5x^2+4x}$$\n",
    "\n",
    "y al resolverlo el resultado seria el siguiente"
   ]
  },
  {
   "cell_type": "code",
   "execution_count": 27,
   "id": "5da78153",
   "metadata": {},
   "outputs": [
    {
     "data": {
      "text/latex": [
       "$\\frac{37}{6}$"
      ],
      "text/plain": [
       "37/6"
      ]
     },
     "execution_count": 27,
     "metadata": {},
     "output_type": "execute_result"
    }
   ],
   "source": [
    "integrate(fx,(x,0,1))"
   ]
  },
  {
   "cell_type": "markdown",
   "id": "b7b98053",
   "metadata": {},
   "source": [
    "## Paquete Plots 📊\n",
    "\n",
    "Dejando un poco de lado la matemática un poco mas dura de la sección anterior...📎 Sigamos con un tema un poco distinto,incluso tal vez un poco mas práctico.Si bien el desarrollo de visualizaciones efectivas con los datos correctos requiere de horas de trabajo,en esta sección veremos algunos de los gráficos mas utilizados en Data Science.\n",
    "\n",
    "Alguno de los gráficos que se pueden desarrollar con el paquete Plots y que veremos son los siguientes:\n",
    "\n",
    "*    Gráficos de dispersión\n",
    "*    Gráficos de líneas\n",
    "*    Gráficos de barra\n",
    "*    Histogramas\n",
    "*    Diagramas de cajas"
   ]
  },
  {
   "cell_type": "markdown",
   "id": "6d1029be",
   "metadata": {},
   "source": [
    "## Gráficos de dispersión\n",
    "Uno de los gráficos mas utilizados en Data Science es el de dispersión,ya que nos permite realizar un primer análisis exploratorio de las variables de interés.De acuerdo a lo anterior,veremos un primer gráfico utilizando la libreria Plots que debemos cargar antes de utilizar en el entorno de Julia.A continuación veremos la sintáxis para el desarrollo de este tipo de gráfico."
   ]
  },
  {
   "cell_type": "code",
   "execution_count": null,
   "id": "58dc3ec6",
   "metadata": {},
   "outputs": [],
   "source": [
    "using Plots\n",
    "\n",
    "data = rand(10)\n",
    "f = Plots.scatter(data)"
   ]
  },
  {
   "cell_type": "markdown",
   "id": "efc8402e",
   "metadata": {},
   "source": [
    "\n",
    "<img src=graficos/graficos_dispersion.png width=\"500\" height=\"500\" >"
   ]
  },
  {
   "cell_type": "markdown",
   "id": "5b6633f2",
   "metadata": {},
   "source": [
    "## Gráfico de líneas\n",
    "\n",
    "Siguiendo el orden la lista,el segundo de ellos que veremos será el gráfico de líneas.Este tipo de gráfico generalmente lo usamos para visualizar un conjunto de pares ordenados,en donde posteriormente podemos trazar rectas que unan cada uno de estos pares,la sintáxis siguiente muestra como podemos desarrollar un gráfico de este tipo."
   ]
  },
  {
   "cell_type": "code",
   "execution_count": null,
   "id": "508db755",
   "metadata": {},
   "outputs": [],
   "source": [
    "using Plots\n",
    "\n",
    "data = rand(10)\n",
    "f = plot(data)"
   ]
  },
  {
   "cell_type": "markdown",
   "id": "0d149696",
   "metadata": {},
   "source": [
    "\n",
    "<img src=graficos/graficos_linea.png width=\"500\" height=\"500\" >"
   ]
  },
  {
   "cell_type": "markdown",
   "id": "30965bc0",
   "metadata": {},
   "source": [
    "## Gráfico de barras\n",
    "\n",
    "Un segundo gráfico que es muy utilizado tanto en Data Science como en otras áreas ,son los gráficos de barra.Este tipo de gráfico nos permite desarrollar una visualización en donde trabajamos con 2 variables.En donde nuestra variable ***x*** corresponde a las categorías que queremos representar y la variable ***y*** a la magnitud o cantidades de cada una de estas categorías."
   ]
  },
  {
   "cell_type": "code",
   "execution_count": null,
   "id": "bb2add38",
   "metadata": {},
   "outputs": [],
   "source": [
    "using Plots\n",
    "\n",
    "data = rand(10)\n",
    "f = Plots.bar(data)\n",
    "f"
   ]
  },
  {
   "cell_type": "markdown",
   "id": "e333784e",
   "metadata": {},
   "source": [
    "\n",
    "<img src=graficos/graficos_barra.png width=\"500\" height=\"500\" >"
   ]
  },
  {
   "cell_type": "markdown",
   "id": "829bc061",
   "metadata": {},
   "source": [
    "## Histogramas\n",
    "\n",
    "\n",
    "A diferencia de los gráficos anteriores,el histograma es un tipo de visualización que nos permite visualizar las frecuencias acumuladas en una muestra.Si bien hay algunos conceptos y tópicos de mucho intéres que podemos analizar y verificar en un histograma,por ahora solo nos dedicaremos al desarrollo de este tipo de gráfico.Además en este caso,agregamos el parámetro ***nbins*** el cual permite cambiar la cantidad de columnas que tiene el histograma,generalmente se prefiere el uso de un término impar ya que permite analizar visualmente la asimetría o curtosis,entre otras medidas. "
   ]
  },
  {
   "cell_type": "code",
   "execution_count": null,
   "id": "7a316519",
   "metadata": {},
   "outputs": [],
   "source": [
    "using Plots\n",
    "\n",
    "data = rand(100)\n",
    "f = histogram(data,nbins=9)\n",
    "f"
   ]
  },
  {
   "cell_type": "markdown",
   "id": "be8884cf",
   "metadata": {},
   "source": [
    "\n",
    "<img src=graficos/graficos_histogram.png width=\"500\" height=\"500\" >"
   ]
  },
  {
   "cell_type": "markdown",
   "id": "a5ad4038",
   "metadata": {},
   "source": [
    "## Diagramas de cajas\n",
    "\n",
    "Y hemos llegado al final de esta sección... 😁.El último gráfico que veremos sera el diagrama de cajas,el cual tiene algunas similitudes con el histograma pero sin duda que nos muestran aspectos distintos de una muestra.Las similitudes que comparten principalmente son las medidas estadísticas que podemos ver en ellos como la media,mediana,entre otros.\n",
    "\n",
    "Sin embargo el diagrama de cajas es mucho más explícito para mostrar algunos estadísticos relevantes.\n",
    "\n",
    "A continuación vemos la sintáxis del diagrama de cajas pero con el paquete StatsPlots y además haciendo uso del paquete Random,para la generación de números aleatorios,luego analizamos algunos de los estadísticos que observamos en la imagen."
   ]
  },
  {
   "cell_type": "code",
   "execution_count": null,
   "id": "21faab47",
   "metadata": {},
   "outputs": [],
   "source": [
    "using StatsPlots, Random\n",
    "\n",
    "n = 30\n",
    "calculo = rand(1:10, n)\n",
    "estadistica = rand(1:10, n)\n",
    "\n",
    "b=boxplot([calculo estadistica], label=[\"Calculo\" \"Estadística\"])\n",
    "b"
   ]
  },
  {
   "cell_type": "markdown",
   "id": "98403430",
   "metadata": {},
   "source": [
    "\n",
    "<img src=graficos/graficos_boxplot.png width=\"500\" height=\"500\" >"
   ]
  },
  {
   "cell_type": "markdown",
   "id": "34e67eba",
   "metadata": {},
   "source": [
    "En la imagen observamos 2 gráficos de cajas,en donde se muestra la distribución de las notas de los cursos de Cálculo y Estadística.En ellos se observa que la distribución de las notas de Cálculo es mayor que la de estadística,ya que la ***\"caja\"*** es mas grande.Además la mediana correspondiente a la línea que se encuentra dentro de ambas cajas,en el caso de Cálculo es mayor."
   ]
  },
  {
   "cell_type": "markdown",
   "id": "020554ed",
   "metadata": {},
   "source": [
    "Y llegamos al final de este curso introductorio con Julia para Data Science.Este curso presenta una guía práctica de como empezar a trabajar con Julia desde un punto de vista funcional,hay algunos conceptos que no se han considerado en este primer curso pero que en cursos posteriores profundizaremos mucho más como Algoritmos,desarrollo de visualizaciones e incluso Modelos de Machine Learning.\n",
    "\n",
    "Ante cualquier duda o comentario me puedes escribir a juan.venegas@uach.cl o j.venegasgutierrez@gmail.com\n",
    "\n",
    "Saludos 🌅\n"
   ]
  }
 ],
 "metadata": {
  "@webio": {
   "lastCommId": "2bb8f1c1-10e6-4c5f-9c90-bfe6900409ae",
   "lastKernelId": "cc63e77d-8ef4-4151-b9b9-b0b9d3db4ce2"
  },
  "kernelspec": {
   "display_name": "Julia 1.7.3",
   "language": "julia",
   "name": "julia-1.7"
  },
  "language_info": {
   "file_extension": ".jl",
   "mimetype": "application/julia",
   "name": "julia",
   "version": "1.7.3"
  }
 },
 "nbformat": 4,
 "nbformat_minor": 5
}
