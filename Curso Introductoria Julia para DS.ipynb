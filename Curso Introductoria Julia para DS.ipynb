{
 "cells": [
  {
   "cell_type": "markdown",
   "id": "cfeb7cdd-ba26-4c6a-91e4-51a3abdefdf8",
   "metadata": {
    "tags": []
   },
   "source": [
    "# Bienvenido al curso introductorio de Julia para Data Science\n",
    "\n",
    "<center>\n",
    "<img src=julia.png>"
   ]
  },
  {
   "cell_type": "markdown",
   "id": "c348cee1-e204-4df1-91fa-000087acbbd7",
   "metadata": {},
   "source": [
    "## Objetivos\n",
    "\n",
    "* Comprender los conceptos y funcionalidades básicas del lenguaje Julia\n",
    "* Análisis y desarrollo de código para su posterior uso."
   ]
  },
  {
   "cell_type": "markdown",
   "id": "b6c6e7d6-09db-4a14-bb18-e7822141029f",
   "metadata": {},
   "source": [
    "<a id='Indice'></a>\n",
    "## Índice\n",
    "[Inicio ▲](#Indice)\n",
    "\n",
    "1. [Introducción](#Introduccion)\n",
    "1. [Variables básicas](#Variables-basicas)\n",
    "1. [Ciclos](#Ciclos)\n",
    "1. [Funciones](#Funciones)\n",
    "1. [Gráficos](#Graficos)\n",
    "\n"
   ]
  },
  {
   "cell_type": "markdown",
   "id": "31358460-4203-4d41-a635-f0f5b295e20b",
   "metadata": {},
   "source": [
    "<a id='Introduccion'></a>\n",
    "### Introducción 🎯\n",
    "\n",
    "[Inicio ▲](#Indice)\n",
    "\n",
    "Julia es un lenguaje de proposito general de código abierto,dinámico y de alto rendimiento basado en un compilador avanzado (JIT),que permite que el código se ejecute rápido como si fuera compilado.\n",
    "\n",
    "Sin embargo,algunas de las caracteristicas mas interesantes de Julia para Ciencias e Ingeniería,son las siguientes:\n",
    "\n",
    "* Sintáxis Matemáticas: Lleva el lenguaje matematico al codigo de programación similar a como lo realizan software como Mathematica.\n",
    "\n",
    "* Buen desempeño: Tiene un rendimiento similar a lenguajes compilados como C.\n",
    "\n",
    "* Diseño paralelo: Esta desarrollado para la computación paralela y distribuida.\n",
    "\n",
    "* Entre otros...\n",
    "\n",
    "La última versión descargable de Julia es la versión 1.7.3 y la puedes descargar desde el siguiente enlance [Julia](https://julialang.org/downloads/).Además puedes instalar algunos Entornos de desarrollo para utilizar Julia como [VSCode](https://code.visualstudio.com/) o incluso puedes utilizar la Suite [JupyterLab](https://jupyter.org/)."
   ]
  },
  {
   "cell_type": "markdown",
   "id": "4e224e50-ad52-4daf-8eb8-98913426139c",
   "metadata": {},
   "source": [
    "<a id='Variables-basicas'></a>\n",
    "### Variables básicas 🎹\n",
    "\n",
    "[Inicio ▲](#Indice)\n",
    "\n",
    "Uno de los primeros puntos a considerar en lenguajes como MatLab,R,Python,entre otros,es la definición de variables.En el caso de Julia,podemos considerar que las variables básicas que podemos definir son variables numéricas y de cadena de texto."
   ]
  },
  {
   "cell_type": "code",
   "execution_count": 9,
   "id": "74604dc9-2d3d-4ed9-9199-3e0135069948",
   "metadata": {},
   "outputs": [
    {
     "data": {
      "text/plain": [
       "Int64"
      ]
     },
     "execution_count": 9,
     "metadata": {},
     "output_type": "execute_result"
    }
   ],
   "source": [
    "x=10\n",
    "typeof(x)"
   ]
  },
  {
   "cell_type": "code",
   "execution_count": 10,
   "id": "f0b622b2-5bbf-4d39-b0d4-79043f96b8c5",
   "metadata": {},
   "outputs": [
    {
     "data": {
      "text/plain": [
       "String"
      ]
     },
     "execution_count": 10,
     "metadata": {},
     "output_type": "execute_result"
    }
   ],
   "source": [
    "y=\"Proyecto exitoso\"\n",
    "typeof(y)"
   ]
  },
  {
   "cell_type": "markdown",
   "id": "360d87d7-8c51-4b3e-9715-1e035a09ac9d",
   "metadata": {},
   "source": [
    "En este caso definimos la variable x que almacena el valor **10** y la variable y que almacena el texto **\"Proyecto exitoso\"**.Luego verificamos el tipo de variable que es cada una,mediante la funcion **typeof()**.\n",
    "\n",
    "Sin embargo,tal vez una de las caracteristicas mas importantes de Julia es la existencia de jerarquia en las variables numéricas.De esta forma, es posible transformar un valor entero en formatos de **Float64**,**Float32** o **Float16** correspondientes a numeros de doble,unica o la mitad de la precisión.\n"
   ]
  },
  {
   "cell_type": "code",
   "execution_count": 21,
   "id": "90662060-f781-4123-9f1b-afb696a2b4d7",
   "metadata": {},
   "outputs": [
    {
     "data": {
      "text/plain": [
       "2.0"
      ]
     },
     "execution_count": 21,
     "metadata": {},
     "output_type": "execute_result"
    }
   ],
   "source": [
    "Float64(2)"
   ]
  },
  {
   "cell_type": "code",
   "execution_count": 22,
   "id": "8e158c5d-d8b2-4712-9aa1-61585727a0a2",
   "metadata": {},
   "outputs": [
    {
     "data": {
      "text/plain": [
       "2.0f0"
      ]
     },
     "execution_count": 22,
     "metadata": {},
     "output_type": "execute_result"
    }
   ],
   "source": [
    "Float32(2)"
   ]
  },
  {
   "cell_type": "code",
   "execution_count": 23,
   "id": "cda61777-f6ec-40ab-ba27-9d086cac0767",
   "metadata": {},
   "outputs": [
    {
     "data": {
      "text/plain": [
       "Float16(2.0)"
      ]
     },
     "execution_count": 23,
     "metadata": {},
     "output_type": "execute_result"
    }
   ],
   "source": [
    "Float16(2)"
   ]
  },
  {
   "cell_type": "markdown",
   "id": "51b13fb8-93b8-4eab-b544-e65694d63d01",
   "metadata": {},
   "source": [
    "Si queremos realizar la operación inversa,transformar una variable float en integer,no siempre sera valida debido a la jerarquia en las variables.Es por esto que es preferible utilizar funciones como **ceil()**,**floor()** o **round()**.\n",
    "\n",
    "Si consideramos el siguiente caso"
   ]
  },
  {
   "cell_type": "code",
   "execution_count": 25,
   "id": "782607bf-b7f5-400d-be40-a07e2ebf636f",
   "metadata": {},
   "outputs": [
    {
     "data": {
      "text/plain": [
       "2"
      ]
     },
     "execution_count": 25,
     "metadata": {},
     "output_type": "execute_result"
    }
   ],
   "source": [
    "Int64(2.4)"
   ]
  },
  {
   "cell_type": "markdown",
   "id": "569c0019-e85c-4465-a007-65e93274630f",
   "metadata": {},
   "source": [
    "Nos lanzara un error,ya que no se puede transformar a valor entero el decimal 2.4.Para esto preferimos utilizar la siguientes funciones."
   ]
  },
  {
   "cell_type": "code",
   "execution_count": 26,
   "id": "79ed5113-f1e1-4f09-a39b-23f4ae96784f",
   "metadata": {},
   "outputs": [
    {
     "data": {
      "text/plain": [
       "2"
      ]
     },
     "execution_count": 26,
     "metadata": {},
     "output_type": "execute_result"
    }
   ],
   "source": [
    "floor(Int64,2.4)"
   ]
  },
  {
   "cell_type": "code",
   "execution_count": 27,
   "id": "5b70cb56-071b-4c82-bd6a-c32e2f589484",
   "metadata": {},
   "outputs": [
    {
     "data": {
      "text/plain": [
       "3"
      ]
     },
     "execution_count": 27,
     "metadata": {},
     "output_type": "execute_result"
    }
   ],
   "source": [
    "ceil(Int64,2.4)"
   ]
  },
  {
   "cell_type": "code",
   "execution_count": 28,
   "id": "2dd36e69-2ae4-49c9-ba6d-077654df1626",
   "metadata": {},
   "outputs": [
    {
     "data": {
      "text/plain": [
       "2"
      ]
     },
     "execution_count": 28,
     "metadata": {},
     "output_type": "execute_result"
    }
   ],
   "source": [
    "round(Int64,2.4)"
   ]
  },
  {
   "cell_type": "markdown",
   "id": "86dac662-038e-4266-bbd5-01795db1bed1",
   "metadata": {},
   "source": [
    "En los 3 casos estamos transformando el mismo valor decimal,sin embargo la funcion determina si se redondea al valor mas cercano hacia abajo o hacia arriba."
   ]
  },
  {
   "cell_type": "markdown",
   "id": "72938e47-a767-4497-95da-ea9aeff93231",
   "metadata": {},
   "source": [
    "<a id='Ciclos'></a>\n",
    "### Ciclos 🎢\n",
    "\n",
    "[Inicio ▲](#Indice)\n",
    "\n",
    "Uno de los aspectos mas importantes en la mayoria de los lenguajes, son los ciclos o loops para el desarrollo de iteraciones en distintos contextos,ya sean recorrer los valores en una lista o matriz,iterar una función, imprimir mensajes por pantalla con alguna variable que cambia de valor,entre otros aspectos.\n",
    "\n",
    "Uno de los primeros puntos que podemos ver es la sintáxis,la cual es muy similar a lenguajes como Matlab o R,en donde usamos la funcion **println()**,ya que nos permite imprimir cada valor de **i** en una nueva linea."
   ]
  },
  {
   "cell_type": "code",
   "execution_count": 3,
   "id": "f1383b6e-7303-480f-81fd-c00c2db98477",
   "metadata": {},
   "outputs": [
    {
     "name": "stdout",
     "output_type": "stream",
     "text": [
      "1\n",
      "2\n",
      "3\n",
      "4\n",
      "5\n",
      "6\n",
      "7\n",
      "8\n",
      "9\n",
      "10\n"
     ]
    }
   ],
   "source": [
    "for i in 1:10\n",
    "    println(i)\n",
    "end"
   ]
  },
  {
   "cell_type": "markdown",
   "id": "3d27c00a-02f3-4aca-ae1b-8f72ae4ad17e",
   "metadata": {},
   "source": [
    "En caso contrario si usamos en Julia la funcion **print()** obtenemos la misma secuencia pero se imprimen todos los valores en la misma linea."
   ]
  },
  {
   "cell_type": "code",
   "execution_count": 4,
   "id": "b93d030e-9860-405c-8c5c-02ae2659cfea",
   "metadata": {},
   "outputs": [
    {
     "name": "stdout",
     "output_type": "stream",
     "text": [
      "12345678910"
     ]
    }
   ],
   "source": [
    "for i in 1:10\n",
    "    print(i)\n",
    "end"
   ]
  },
  {
   "cell_type": "markdown",
   "id": "9d76d45f-5bcc-48f9-9e7b-4575dd42eb0a",
   "metadata": {},
   "source": [
    "Sin embargo, el ciclo for tambien puede recorrer otro tipo de estructuras de datos o variables.En algunos casos podriamos querer recorrer los valores en un vector previamente definido"
   ]
  },
  {
   "cell_type": "code",
   "execution_count": 6,
   "id": "41574dcb-77bc-4ee7-9222-9a5cc65c98e8",
   "metadata": {},
   "outputs": [
    {
     "name": "stdout",
     "output_type": "stream",
     "text": [
      "10\n",
      "20\n",
      "30\n",
      "40\n",
      "50\n"
     ]
    }
   ],
   "source": [
    "for i in [10,20,30,40,50]\n",
    "    println(i)\n",
    "end"
   ]
  },
  {
   "cell_type": "markdown",
   "id": "b3a60662-52c8-48f3-a95d-ccdbdf95be3d",
   "metadata": {},
   "source": [
    "O incluso podriamos recorrer uno a uno los caracteres en una cadena de texto... cualquier parecido con la realidad es mera coincidencia. 👀"
   ]
  },
  {
   "cell_type": "code",
   "execution_count": 8,
   "id": "1db7a740-ade1-48ca-8da2-50cbbc209556",
   "metadata": {},
   "outputs": [
    {
     "name": "stdout",
     "output_type": "stream",
     "text": [
      "L\n",
      "u\n",
      "n\n",
      "e\n",
      "s\n"
     ]
    }
   ],
   "source": [
    "for i in \"Lunes\"\n",
    "    println(i)\n",
    "end"
   ]
  },
  {
   "cell_type": "markdown",
   "id": "cfff4002-add5-4d3b-9b3f-9a1d7ffe3594",
   "metadata": {},
   "source": [
    "Afortunadamente no solo existe el ciclo for para realizar iteraciones.Sino que también podemos hacer uso del ciclo while,el cual tiene una sintaxis un poco mas breve,pero que sin embargo debemos tener algunos cuidados.\n",
    "\n",
    "En este caso el ciclo while se ejecuta siempre que sea cierta la condición lógica,pero en el caso que la condición logica deje de ser verdadera se ejecuta el codigo que viene despues de la palabra reservada **end**\n",
    "\n",
    "Una sintáxis clasica es el homólogo del ciclo for"
   ]
  },
  {
   "cell_type": "code",
   "execution_count": 10,
   "id": "4f4accc6-7150-4f21-b03c-3b95ba352c93",
   "metadata": {},
   "outputs": [
    {
     "name": "stdout",
     "output_type": "stream",
     "text": [
      "1\n",
      "2\n",
      "3\n",
      "4\n",
      "5\n",
      "6\n",
      "7\n",
      "8\n",
      "9\n",
      "10\n"
     ]
    }
   ],
   "source": [
    "i = 1\n",
    "while i <= 10\n",
    "    println(i)\n",
    "    i=i+1\n",
    "end"
   ]
  },
  {
   "cell_type": "markdown",
   "id": "3a591848-c600-4176-aa4c-ab8b7c8d37bc",
   "metadata": {},
   "source": [
    "En este caso a diferencia del ciclo **for**,primero tenemos que inicializar la variable **i**,para luego definir la condición lógica,que en este caso es que mientras i sea menor o igual que 10 se debe imprimir las instrucciones que se encuentran en el bloque.Luego definimos 2 instrucciones,primero que se imprima el valor de **i** para luego redefinir el valor de i como **i=i+1**,asi de esta forma en cada iteración el valor de i va aumentando en 1.🪃"
   ]
  },
  {
   "cell_type": "markdown",
   "id": "fce5ce63-5a36-4ac3-a2cd-b9793fdf133f",
   "metadata": {},
   "source": [
    "Uno de los principales cuidados que debemos tener al utilizar el ciclo **While**,es que mientras la condición lógica sea verdadera las instrucciones siempre se ejecutan,por tanto si la condición nunca deja de ser verdadera el ciclo se ejecuta de forma indefinida,ocasionando que en el peor de los casos el software se cierre de forma abrupta.Un caso común es el que se muestra en la sintáxis... 🔥"
   ]
  },
  {
   "cell_type": "code",
   "execution_count": null,
   "id": "dd49d205-41de-4eac-95dd-80d2c7b81264",
   "metadata": {},
   "outputs": [],
   "source": [
    "i = 1\n",
    "while i > 0\n",
    "    println(i)\n",
    "    i=i+1\n",
    "end"
   ]
  },
  {
   "cell_type": "markdown",
   "id": "6682063d-658a-44bb-a643-85262aae02a3",
   "metadata": {},
   "source": [
    "Pero bueno,si necesitamos que la condición si sea la que ya definimos,podriamos hacer uso de dos comandos muy útiles,en este caso **break** y **continue**.\n",
    "\n",
    "Si consideramos el último ciclo while,podriamos hacer que la variable ***i*** alcance un determinado valor el ciclo termine."
   ]
  },
  {
   "cell_type": "code",
   "execution_count": 3,
   "id": "ea85cd2a-aa09-45c8-a96c-20c39c759ac8",
   "metadata": {},
   "outputs": [
    {
     "name": "stdout",
     "output_type": "stream",
     "text": [
      "1\n",
      "2\n",
      "3\n",
      "4\n",
      "5\n",
      "6\n",
      "7\n",
      "8\n",
      "9\n",
      "10\n",
      "11\n",
      "12\n",
      "13\n",
      "14\n"
     ]
    }
   ],
   "source": [
    "i = 1\n",
    "while i > 0\n",
    "    if i ==15\n",
    "        break;\n",
    "    end\n",
    "    println(i)\n",
    "    i=i+1\n",
    "end"
   ]
  },
  {
   "cell_type": "markdown",
   "id": "e6008b99-ce98-45cd-b3a8-9983190d8c30",
   "metadata": {},
   "source": [
    "Afortunadamente resulto bien la sintáxis jajaj... Bueno como pueden ver acá agregamos una condición,en este caso se verifiqua si el valor de ***i*** llegó a 15,si es el caso entonces el while termina,pero mientras no llegue a ese valor se puede seguir ejecutando."
   ]
  },
  {
   "cell_type": "markdown",
   "id": "2c8db780-7a14-45c3-9369-beaad9c794ce",
   "metadata": {},
   "source": [
    "Y tal vez uno de los favoritos para muchos son los ciclos anidados 🙄.En general cuando hablamos de ciclos anidados hacemos referencia a incluir un ciclo dentro de otro,algo tipico que podriamos ver seria lo siguiente."
   ]
  },
  {
   "cell_type": "code",
   "execution_count": 14,
   "id": "2879ff81-f3a2-41d5-bb7c-3be4154efb55",
   "metadata": {},
   "outputs": [
    {
     "name": "stdout",
     "output_type": "stream",
     "text": [
      "i tiene el valor 1 y j tiene el valor 1\n",
      "i tiene el valor 1 y j tiene el valor 2\n",
      "i tiene el valor 1 y j tiene el valor 3\n",
      "i tiene el valor 2 y j tiene el valor 1\n",
      "i tiene el valor 2 y j tiene el valor 2\n",
      "i tiene el valor 2 y j tiene el valor 3\n",
      "i tiene el valor 3 y j tiene el valor 1\n",
      "i tiene el valor 3 y j tiene el valor 2\n",
      "i tiene el valor 3 y j tiene el valor 3\n"
     ]
    }
   ],
   "source": [
    "for i in 1:3\n",
    "    for j=1:3\n",
    "        println(\"i tiene el valor \",i,\" y j tiene el valor \",j)\n",
    "    end\n",
    "end"
   ]
  },
  {
   "cell_type": "markdown",
   "id": "135838fb-bb4b-413d-b7ee-19520bb08744",
   "metadata": {},
   "source": [
    "Aca estamos usando 2 ciclos for.El primero de ellos recorre los valores que puede tomar la variable ***i*** (1,2,3) y luego el ciclo de adentro recorre \n",
    "los valores que puede tomar la variable ***j***.De esta forma cuando ***i*** tiene el valor de 1,se recorren todos los valores de j y asi de forma sucesiva con los siguientes valores."
   ]
  },
  {
   "cell_type": "markdown",
   "id": "e2e2fbf3-910b-4733-bfc8-70bf936baac6",
   "metadata": {},
   "source": [
    "Haciendo uso de ciclos pero esta vez de forma separada,podriamos hacer algo un poco mas matematico.🤓"
   ]
  },
  {
   "cell_type": "code",
   "execution_count": 39,
   "id": "8e99d171-3eef-4805-bf5f-54d0b2d1107e",
   "metadata": {},
   "outputs": [
    {
     "data": {
      "text/plain": [
       "5×5 Matrix{Int64}:\n",
       " 1  0  0  0  1\n",
       " 0  1  0  1  0\n",
       " 0  0  1  0  0\n",
       " 0  1  0  1  0\n",
       " 1  0  0  0  1"
      ]
     },
     "execution_count": 39,
     "metadata": {},
     "output_type": "execute_result"
    }
   ],
   "source": [
    "x=[0 0 0 0 0; 0 0 0 0 0; 0 0 0 0 0; 0 0 0 0 0;  0 0 0 0 0]\n",
    "\n",
    "for i in 1:5\n",
    "    x[i,i]=1\n",
    "end\n",
    "for i in 1:5\n",
    "    x[i,-i+6]=1\n",
    "end\n",
    "\n",
    "x"
   ]
  },
  {
   "cell_type": "markdown",
   "id": "6b270888-ab31-467b-ad05-6c9cc0cf19e9",
   "metadata": {},
   "source": [
    "Un último importante y no menor,es algo que vimos de forma indirecta en uno de los ciclos anteriormente y corresponde a los condicionales y operadores lógicos.\n",
    "\n",
    "Los condicionales sirven para ejecutar una instrucción siempre que se cumpla una condición.Sin embargo,podemos verificar n condiciones si fuera necesario las cuales las podemos realizar mediante operadores lógicos.\n",
    "\n",
    "<table ><tr><th >Operador <th><th> Descripción <tr><tr>\n",
    "<tr><td> < <td><td> Menor a <td><tr>\n",
    "<tr><td> > <td><td> Mayor a <td><tr>\n",
    "<tr><td> <= <td><td> Menor o igual a <td><tr>\n",
    "<tr><td> >= <td><td> Mayor o igual a <td><tr>\n",
    "<tr><td> == <td><td> Igual a <td><tr>\n",
    "<tr><td> != <td><td> No es igual a <td><tr>\n",
    "<tr><td> | <td><td> Si al menos una es verdadera (o). <td><tr>\n",
    "<tr><td> || <td><td> Si al menos la primera s verdadera <td><tr>\n",
    "<tr><td> & <td><td> Es Verdadero si todas lo son. <td><tr>\n",
    "<tr><td> ! <td><td> Negación <td><tr>\n",
    "<tr><td> any <td><td> Es Verdadero si algun elemento de un arreglo booleano es verdadero. <td><tr>\n",
    "<tr><td> all <td><td> Es verdadero si se cumple que todos los elementos de un arreglo booleano son Verdaderos. <td><tr>\n",
    "<tr><td> || <td><td> Menor a <td><tr><table>    \n",
    "    \n",
    "A pesar de ser una tabla un poco extensa... estos operadores si que son muy útiles.🧭\n",
    "    \n",
    "    \n",
    "Una caso bastante común es querer validar si un valor es positivo,negativo o igual a 0.Para esto utilizaremos una función que nos genere automaticamente numeros aleatorios."
   ]
  },
  {
   "cell_type": "code",
   "execution_count": 60,
   "id": "b7f39d81-e817-4c4a-9104-df088eadcfc7",
   "metadata": {},
   "outputs": [
    {
     "name": "stdout",
     "output_type": "stream",
     "text": [
      "1.0388530297170369\n",
      "A es positivo\n"
     ]
    }
   ],
   "source": [
    "A=randn()\n",
    "\n",
    "println(A)\n",
    "\n",
    "if A>0\n",
    "    println(\"A es positivo\")\n",
    "elseif A==0\n",
    "    println(\"A es cero\")\n",
    "else\n",
    "    println(\"A es negativo\")\n",
    "end"
   ]
  },
  {
   "cell_type": "markdown",
   "id": "dee7bf20-0301-4675-83b8-c9bb8b2ac8d7",
   "metadata": {},
   "source": [
    "Así cada vez que se ejecute el bloque de código anterior,se genera un numero nuevo y se valida cualquiera de las 3 condiciones,devolviendonos el mensaje correspondiente."
   ]
  },
  {
   "cell_type": "markdown",
   "id": "fcfcf095-2643-4b73-ba9e-49096028849d",
   "metadata": {},
   "source": [
    "<a id='Funciones'></a>\n",
    "### Funciones ⛩\n",
    "\n",
    "[Inicio ▲](#Indice)\n",
    "\n",
    "Los bloques de código que hemos visto hasta el momento,representan definiciones de variables,iteración de una o mas instrucciones,entre otros aspectos.Sin embargo cuando hablamos de funciones,nos referimos a un conjunto de instrucciones pero que encapsulamos bajo un nombre,a la cual se le puede asignar una o mas variables de entrada y asi mismo podemos tener algunas salidas de esta misma.\n",
    "\n",
    "Una de las funciones que ya hemos utilizado y que viene precargada en Julia es la función ***println()***,de la cual incluso hemos visto algunos de los argumentos de esta."
   ]
  },
  {
   "cell_type": "code",
   "execution_count": 3,
   "id": "70720292-07bf-4a9a-a13a-3513b73297ad",
   "metadata": {},
   "outputs": [
    {
     "name": "stdout",
     "output_type": "stream",
     "text": [
      "Hola mundo\n"
     ]
    }
   ],
   "source": [
    "mensaje=println(\"Hola mundo\")\n",
    "mensaje"
   ]
  },
  {
   "cell_type": "markdown",
   "id": "5615e3aa-6c59-49bf-ab40-82df6f1ac574",
   "metadata": {},
   "source": [
    "Otra función importante en Julia es ***parse()***,la cual toma una cadena y si es posible la transforma en algún tipo de número,sin embargo si no es posible arroja un error."
   ]
  },
  {
   "cell_type": "code",
   "execution_count": 8,
   "id": "18214063-b86e-4988-ae1d-c8c88cad115b",
   "metadata": {},
   "outputs": [
    {
     "data": {
      "text/plain": [
       "3.1415"
      ]
     },
     "execution_count": 8,
     "metadata": {},
     "output_type": "execute_result"
    }
   ],
   "source": [
    "conversion_1=parse(Int64,\"44\")\n",
    "conversion_1"
   ]
  },
  {
   "cell_type": "markdown",
   "id": "5faeb7ad-9f92-4b7c-b5ea-b8b5641ea17e",
   "metadata": {},
   "source": [
    "Tambien podriamos aplicar una función a una ya utilizada.En este caso convertimos la cadena de texto \"3.1415\" a numero,pero luego utilizamos la función ***trunc()*** para truncar el valor de $\\pi.$"
   ]
  },
  {
   "cell_type": "code",
   "execution_count": 9,
   "id": "019fed2c-c33f-4f37-83a2-54881a3385d8",
   "metadata": {},
   "outputs": [
    {
     "data": {
      "text/plain": [
       "3.0"
      ]
     },
     "execution_count": 9,
     "metadata": {},
     "output_type": "execute_result"
    }
   ],
   "source": [
    "conversion_2=parse(Float64,\"3.1415\")\n",
    "trunc(conversion_2)"
   ]
  },
  {
   "cell_type": "markdown",
   "id": "bbfdb8eb-3ee9-45de-83c9-e3efd6f04bac",
   "metadata": {},
   "source": [
    "Pero vamos a lo interesante... ya que por mas funciones que vengan diseñadas,en muchos casos vamos a requerir de la creación de nuestras propias funciones.\n",
    "\n",
    "De esta forma para crear una función,debemos especificar tanto su nombre como las instrucciones que queremos ejecutar.Asi podriamos definir una función que solo imprima un mensaje por pantalla cada vez que la llamemos."
   ]
  },
  {
   "cell_type": "code",
   "execution_count": 11,
   "id": "120b5ce2-bf3f-493c-92df-a0658cb1b501",
   "metadata": {},
   "outputs": [
    {
     "name": "stdout",
     "output_type": "stream",
     "text": [
      "Hola a todos\n"
     ]
    }
   ],
   "source": [
    "function saludo()\n",
    "    println(\"Hola a todos\")\n",
    "end\n",
    "\n",
    "saludo()"
   ]
  },
  {
   "cell_type": "markdown",
   "id": "5bf8624f-2b6e-4b5f-8c02-323d4cc5e007",
   "metadata": {},
   "source": [
    "De esta forma debemos siempre respetar la estructura para el diseño de funciones.Esto implica que cada función siempre debe comenzar con la palabra reservada **function** seguida de el nombre de la función con una apertura y cierre de paréntesis.Luego debemos desarrollar el conjunto de instrucciones que buscamos que ejecute la función cada vez que la llamemos y finalmente debemos terminar con la palabra reservada **end**.\n",
    "\n",
    "Sin embargo,una función tambien puede utilizar parámetros de entrada los cuales pueden modificar parcialmente o totalmente el conjunto de instrucciones que se definen dentro de ella.\n",
    "\n",
    "Si tomamos la función **saludo** que definimos anteriormente,podriamos hacer que esta no solo salude de forma genérica sino que salude a una persona en particular,lo cual lo hara cuando le pasemos el nombre de la persona."
   ]
  },
  {
   "cell_type": "code",
   "execution_count": 29,
   "id": "b83df5e1-ddb1-4f16-b942-ddf36cbfec33",
   "metadata": {},
   "outputs": [
    {
     "name": "stdout",
     "output_type": "stream",
     "text": [
      "Buen día juan\n"
     ]
    }
   ],
   "source": [
    "function saludo(nombre)\n",
    "    println(string(\"Buen día\",\" \",nombre))\n",
    "end\n",
    "\n",
    "saludo(\"juan\")"
   ]
  },
  {
   "cell_type": "markdown",
   "id": "869bb590-3867-4590-9196-a289912fa676",
   "metadata": {},
   "source": [
    "Pero si profundizamos un poco en la función saludo,incluso podriamos agregar otros datos o información releevante de a quien debe saludar la función.Además del nombre,podriamos agregar la edad de la persona y el saldo que tiene en su tarjeta de transporte"
   ]
  },
  {
   "cell_type": "code",
   "execution_count": 41,
   "id": "93bb2e4d-be7a-4110-83cd-eeaecd9e5478",
   "metadata": {},
   "outputs": [
    {
     "name": "stdout",
     "output_type": "stream",
     "text": [
      "Buen día juan su edad es de 25 y usted tiene un saldo de 100 en su tarjeta\n"
     ]
    }
   ],
   "source": [
    "function saludo(nombre,edad,saldo)\n",
    "    println(string(\"Buen día\",\" \",nombre,\" su edad es de \",edad,\" y usted tiene un saldo de \",saldo,\" en su tarjeta\"))\n",
    "end\n",
    "\n",
    "saludo(\"juan\",25,100)"
   ]
  },
  {
   "cell_type": "markdown",
   "id": "9028bfc7-774f-40df-8907-34275a5c6d0d",
   "metadata": {},
   "source": [
    "Como se ve pudimos editar la función,ahora la función **saludo()** acepta 3 parámetros de entrada los cuales corresponden al nombre,la edad y el saldo.Asi tambien se edito el texto que imprime la función,ya que ahora hace uso de los 2 nuevos parámetros "
   ]
  },
  {
   "cell_type": "markdown",
   "id": "34bbbec9-625b-489e-a491-326b3eb30b9b",
   "metadata": {},
   "source": [
    "<a id='Graficos'></a>\n",
    "### Gráficos 📊\n",
    "\n",
    "[Inicio ▲](#Indice)"
   ]
  }
 ],
 "metadata": {
  "kernelspec": {
   "display_name": "Julia 1.7.3",
   "language": "julia",
   "name": "julia-1.7"
  },
  "language_info": {
   "file_extension": ".jl",
   "mimetype": "application/julia",
   "name": "julia",
   "version": "1.7.3"
  }
 },
 "nbformat": 4,
 "nbformat_minor": 5
}
