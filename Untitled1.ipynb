{
 "cells": [
  {
   "cell_type": "markdown",
   "id": "fd61a8d7-37d7-4455-b89e-bff27d679045",
   "metadata": {},
   "source": [
    "# Bienvenido al curso introductorio de Julia para Data Science\n",
    "\n",
    "<center>\n",
    "<img src=julia.png>"
   ]
  }
 ],
 "metadata": {
  "kernelspec": {
   "display_name": "Julia 1.8.1",
   "language": "julia",
   "name": "julia-1.8"
  },
  "language_info": {
   "file_extension": ".jl",
   "mimetype": "application/julia",
   "name": "julia",
   "version": "1.8.1"
  }
 },
 "nbformat": 4,
 "nbformat_minor": 5
}
