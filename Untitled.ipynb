{
 "cells": [
  {
   "cell_type": "markdown",
   "id": "cfeb7cdd-ba26-4c6a-91e4-51a3abdefdf8",
   "metadata": {
    "tags": []
   },
   "source": [
    "# Bienvenido al curso introductorio de Julia para Data Science\n",
    "\n",
    "<center>\n",
    "<img src=julia.png>"
   ]
  },
  {
   "cell_type": "markdown",
   "id": "c348cee1-e204-4df1-91fa-000087acbbd7",
   "metadata": {},
   "source": [
    "## Objetivos\n",
    "\n",
    "* Comprender los conceptos y funcionalidades básicas del lenguaje Julia\n",
    "* Análisis y desarrollo de código para su posterior uso."
   ]
  },
  {
   "cell_type": "markdown",
   "id": "b6c6e7d6-09db-4a14-bb18-e7822141029f",
   "metadata": {},
   "source": [
    "<a id='Indice'></a>\n",
    "## Indice\n",
    "[Inicio ▲](#Indice)\n",
    "\n",
    "1. [Introducción](#Introduccion)\n",
    "1. [Variables básicas](#Variables-basicas)\n",
    "1. [Ciclos](#Ciclos)\n",
    "1. [Estructuras de datos](#Estructuras-de-datos)\n",
    "1. [Gráficos](#Graficos)\n",
    "\n"
   ]
  },
  {
   "cell_type": "markdown",
   "id": "31358460-4203-4d41-a635-f0f5b295e20b",
   "metadata": {},
   "source": [
    "<a id='Introduccion'></a>\n",
    "### Introducción 🎯\n",
    "\n",
    "[Inicio ▲](#Indice)"
   ]
  },
  {
   "cell_type": "markdown",
   "id": "4e224e50-ad52-4daf-8eb8-98913426139c",
   "metadata": {},
   "source": [
    "<a id='Variables-basicas'></a>\n",
    "### Variables basicas 🎹\n",
    "\n",
    "[Inicio ▲](#Indice)"
   ]
  },
  {
   "cell_type": "markdown",
   "id": "72938e47-a767-4497-95da-ea9aeff93231",
   "metadata": {},
   "source": [
    "<a id='Ciclos'></a>\n",
    "### Ciclos 🎢\n",
    "\n",
    "[Inicio ▲](#Indice)"
   ]
  },
  {
   "cell_type": "markdown",
   "id": "fcfcf095-2643-4b73-ba9e-49096028849d",
   "metadata": {},
   "source": [
    "<a id='Estructuras-de-datos'></a>\n",
    "### Estructuras de datos ⛩\n",
    "\n",
    "[Inicio ▲](#Indice)"
   ]
  },
  {
   "cell_type": "markdown",
   "id": "34bbbec9-625b-489e-a491-326b3eb30b9b",
   "metadata": {},
   "source": [
    "<a id='Graficos'></a>\n",
    "### Gráficos 📊\n",
    "\n",
    "[Inicio ▲](#Indice)"
   ]
  }
 ],
 "metadata": {
  "kernelspec": {
   "display_name": "Julia 1.7.3",
   "language": "julia",
   "name": "julia-1.7"
  },
  "language_info": {
   "file_extension": ".jl",
   "mimetype": "application/julia",
   "name": "julia",
   "version": "1.7.3"
  }
 },
 "nbformat": 4,
 "nbformat_minor": 5
}
