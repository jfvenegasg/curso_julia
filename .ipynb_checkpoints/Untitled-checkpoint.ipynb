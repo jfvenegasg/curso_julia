{
 "cells": [
  {
   "cell_type": "markdown",
   "id": "cfeb7cdd-ba26-4c6a-91e4-51a3abdefdf8",
   "metadata": {
    "tags": []
   },
   "source": [
    "# Bienvenido al curso introductorio de Julia para Data Science\n",
    "\n",
    "<center>\n",
    "<img src=julia.png>"
   ]
  },
  {
   "cell_type": "markdown",
   "id": "c348cee1-e204-4df1-91fa-000087acbbd7",
   "metadata": {},
   "source": [
    "## Objetivos\n",
    "\n",
    "* Comprender los conceptos y funcionalidades básicas del lenguaje Julia\n",
    "* Análisis y desarrollo de código para su posterior uso."
   ]
  },
  {
   "cell_type": "markdown",
   "id": "b6c6e7d6-09db-4a14-bb18-e7822141029f",
   "metadata": {},
   "source": [
    "<a id='Indice'></a>\n",
    "## Índice\n",
    "[Inicio ▲](#Indice)\n",
    "\n",
    "1. [Introducción](#Introduccion)\n",
    "1. [Variables básicas](#Variables-basicas)\n",
    "1. [Ciclos](#Ciclos)\n",
    "1. [Estructuras de datos](#Estructuras-de-datos)\n",
    "1. [Gráficos](#Graficos)\n",
    "\n"
   ]
  },
  {
   "cell_type": "markdown",
   "id": "31358460-4203-4d41-a635-f0f5b295e20b",
   "metadata": {},
   "source": [
    "<a id='Introduccion'></a>\n",
    "### Introducción 🎯\n",
    "\n",
    "[Inicio ▲](#Indice)\n",
    "\n",
    "Julia es un lenguaje de proposito general de código abierto,dinámico y de alto rendimiento basado en un compilador avanzado (JIT),que permite que el código se ejecute rápido como si fuera compilado.\n",
    "\n",
    "Sin embargo,algunas de las caracteristicas mas interesantes de Julia para Ciencias e Ingeniería,son las siguientes:\n",
    "\n",
    "* Sintáxis Matemáticas: Lleva el lenguaje matematico al codigo de programación similar a como lo realizan software como Mathematica.\n",
    "\n",
    "* Buen desempeño: Tiene un rendimiento similar a lenguajes compilados como C.\n",
    "\n",
    "* Diseño paralelo: Esta desarrollado para la computación paralela y distribuida.\n",
    "\n",
    "* Entre otros...\n",
    "\n",
    "La última versión descargable de Julia es la versión 1.7.3 y la puedes descargar desde el siguiente enlance [Julia](https://julialang.org/downloads/).Además puedes instalar algunos Entornos de desarrollo para utilizar Julia como [VSCode](https://code.visualstudio.com/) o incluso puedes utilizar la Suite [JupyterLab](https://jupyter.org/)."
   ]
  },
  {
   "cell_type": "markdown",
   "id": "4e224e50-ad52-4daf-8eb8-98913426139c",
   "metadata": {},
   "source": [
    "<a id='Variables-basicas'></a>\n",
    "### Variables basicas 🎹\n",
    "\n",
    "[Inicio ▲](#Indice)\n",
    "\n",
    "Uno de los primeros puntos a considerar en lenguajes como MatLab,R,Python,entre otros,es la definición de variables.En el caso de Julia,podemos considerar que las variables básicas que podemos definir son variables numericas y de cadena de texo"
   ]
  },
  {
   "cell_type": "code",
   "execution_count": 9,
   "id": "74604dc9-2d3d-4ed9-9199-3e0135069948",
   "metadata": {},
   "outputs": [
    {
     "data": {
      "text/plain": [
       "Int64"
      ]
     },
     "execution_count": 9,
     "metadata": {},
     "output_type": "execute_result"
    }
   ],
   "source": [
    "x=10\n",
    "typeof(x)"
   ]
  },
  {
   "cell_type": "code",
   "execution_count": 10,
   "id": "f0b622b2-5bbf-4d39-b0d4-79043f96b8c5",
   "metadata": {},
   "outputs": [
    {
     "data": {
      "text/plain": [
       "String"
      ]
     },
     "execution_count": 10,
     "metadata": {},
     "output_type": "execute_result"
    }
   ],
   "source": [
    "y=\"Proyecto exitoso\"\n",
    "typeof(y)"
   ]
  },
  {
   "cell_type": "markdown",
   "id": "360d87d7-8c51-4b3e-9715-1e035a09ac9d",
   "metadata": {},
   "source": [
    "En este caso definimos la variable x que almacena el valor **10** y la variable y que almacena el texto **\"Proyecto exitoso\"**.Luego verificamos el tipo de variable que es cada una,mediante la funcion **typeof()**.\n",
    "\n",
    "Sin embargo,tal vez una de las caracteristicas mas importantes de Julia es la existencia de jerarquia en las variables numéricas.De esta forma, es posible transformar un valor entero en formatos de **Float64**,**Float32** o **Float16** correspondientes a numeros de doble,unica o la mitad de la precisión.\n"
   ]
  },
  {
   "cell_type": "code",
   "execution_count": 21,
   "id": "90662060-f781-4123-9f1b-afb696a2b4d7",
   "metadata": {},
   "outputs": [
    {
     "data": {
      "text/plain": [
       "2.0"
      ]
     },
     "execution_count": 21,
     "metadata": {},
     "output_type": "execute_result"
    }
   ],
   "source": [
    "Float64(2)"
   ]
  },
  {
   "cell_type": "code",
   "execution_count": 22,
   "id": "8e158c5d-d8b2-4712-9aa1-61585727a0a2",
   "metadata": {},
   "outputs": [
    {
     "data": {
      "text/plain": [
       "2.0f0"
      ]
     },
     "execution_count": 22,
     "metadata": {},
     "output_type": "execute_result"
    }
   ],
   "source": [
    "Float32(2)"
   ]
  },
  {
   "cell_type": "code",
   "execution_count": 23,
   "id": "cda61777-f6ec-40ab-ba27-9d086cac0767",
   "metadata": {},
   "outputs": [
    {
     "data": {
      "text/plain": [
       "Float16(2.0)"
      ]
     },
     "execution_count": 23,
     "metadata": {},
     "output_type": "execute_result"
    }
   ],
   "source": [
    "Float16(2)"
   ]
  },
  {
   "cell_type": "markdown",
   "id": "51b13fb8-93b8-4eab-b544-e65694d63d01",
   "metadata": {},
   "source": [
    "Si queremos realizar la operación inversa,transformar una variable float en integer,no siempre sera valida debido a la jerarquia en las variables.Es por esto que es preferible utilizar funciones como **ceil()**,**floor()** o **round()**.\n",
    "\n",
    "Si consideramos el siguiente caso"
   ]
  },
  {
   "cell_type": "code",
   "execution_count": 25,
   "id": "782607bf-b7f5-400d-be40-a07e2ebf636f",
   "metadata": {},
   "outputs": [
    {
     "data": {
      "text/plain": [
       "2"
      ]
     },
     "execution_count": 25,
     "metadata": {},
     "output_type": "execute_result"
    }
   ],
   "source": [
    "Int64(2.4)"
   ]
  },
  {
   "cell_type": "markdown",
   "id": "569c0019-e85c-4465-a007-65e93274630f",
   "metadata": {},
   "source": [
    "Nos lanzara un error,ya que no se puede transformar a valor entero el decimal 2.4.Para esto preferimos utilizar la siguientes funciones."
   ]
  },
  {
   "cell_type": "code",
   "execution_count": 26,
   "id": "79ed5113-f1e1-4f09-a39b-23f4ae96784f",
   "metadata": {},
   "outputs": [
    {
     "data": {
      "text/plain": [
       "2"
      ]
     },
     "execution_count": 26,
     "metadata": {},
     "output_type": "execute_result"
    }
   ],
   "source": [
    "floor(Int64,2.4)"
   ]
  },
  {
   "cell_type": "code",
   "execution_count": 27,
   "id": "5b70cb56-071b-4c82-bd6a-c32e2f589484",
   "metadata": {},
   "outputs": [
    {
     "data": {
      "text/plain": [
       "3"
      ]
     },
     "execution_count": 27,
     "metadata": {},
     "output_type": "execute_result"
    }
   ],
   "source": [
    "ceil(Int64,2.4)"
   ]
  },
  {
   "cell_type": "code",
   "execution_count": 28,
   "id": "2dd36e69-2ae4-49c9-ba6d-077654df1626",
   "metadata": {},
   "outputs": [
    {
     "data": {
      "text/plain": [
       "2"
      ]
     },
     "execution_count": 28,
     "metadata": {},
     "output_type": "execute_result"
    }
   ],
   "source": [
    "round(Int64,2.4)"
   ]
  },
  {
   "cell_type": "markdown",
   "id": "86dac662-038e-4266-bbd5-01795db1bed1",
   "metadata": {},
   "source": [
    "En los 3 casos estamos transformando el mismo valor decimal,sin embargo la funcion determina si se redondea al valor mas cercano hacia abajo o hacia arriba."
   ]
  },
  {
   "cell_type": "markdown",
   "id": "72938e47-a767-4497-95da-ea9aeff93231",
   "metadata": {},
   "source": [
    "<a id='Ciclos'></a>\n",
    "### Ciclos 🎢\n",
    "\n",
    "[Inicio ▲](#Indice)"
   ]
  },
  {
   "cell_type": "markdown",
   "id": "fcfcf095-2643-4b73-ba9e-49096028849d",
   "metadata": {},
   "source": [
    "<a id='Estructuras-de-datos'></a>\n",
    "### Estructuras de datos ⛩\n",
    "\n",
    "[Inicio ▲](#Indice)"
   ]
  },
  {
   "cell_type": "markdown",
   "id": "34bbbec9-625b-489e-a491-326b3eb30b9b",
   "metadata": {},
   "source": [
    "<a id='Graficos'></a>\n",
    "### Gráficos 📊\n",
    "\n",
    "[Inicio ▲](#Indice)"
   ]
  }
 ],
 "metadata": {
  "kernelspec": {
   "display_name": "Julia 1.7.3",
   "language": "julia",
   "name": "julia-1.7"
  },
  "language_info": {
   "file_extension": ".jl",
   "mimetype": "application/julia",
   "name": "julia",
   "version": "1.7.3"
  }
 },
 "nbformat": 4,
 "nbformat_minor": 5
}
