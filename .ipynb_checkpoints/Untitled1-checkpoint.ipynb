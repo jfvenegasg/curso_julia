{
 "cells": [
  {
   "cell_type": "markdown",
   "id": "fd61a8d7-37d7-4455-b89e-bff27d679045",
   "metadata": {},
   "source": [
    "# Bienvenido al curso introductorio de Julia para Data Science\n",
    "\n",
    "<center>\n",
    "<img src=julia.png>"
   ]
  }
 ],
 "metadata": {
  "kernelspec": {
   "display_name": "Julia 1.8.1",
   "language": "julia",
   "name": "julia-1.8"
  },
  "language_info": {
   "name": ""
  }
 },
 "nbformat": 4,
 "nbformat_minor": 5
}
